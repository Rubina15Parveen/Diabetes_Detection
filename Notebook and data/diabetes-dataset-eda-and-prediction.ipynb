{
 "cells": [
  {
   "cell_type": "markdown",
   "id": "f3044d2a",
   "metadata": {
    "papermill": {
     "duration": 0.014903,
     "end_time": "2025-04-14T19:49:51.211209",
     "exception": false,
     "start_time": "2025-04-14T19:49:51.196306",
     "status": "completed"
    },
    "tags": []
   },
   "source": [
    "# Exploratory Data Analysis for Diabetes Dataset and Classification Prediction"
   ]
  },
  {
   "cell_type": "markdown",
   "id": "68df2a09",
   "metadata": {
    "papermill": {
     "duration": 0.012775,
     "end_time": "2025-04-14T19:49:51.237876",
     "exception": false,
     "start_time": "2025-04-14T19:49:51.225101",
     "status": "completed"
    },
    "tags": []
   },
   "source": [
    "Diabetes is a major public health concern in the United States, affecting millions of individuals and placing a heavy burden on the healthcare system. According to the Centers for Disease Control and Prevention (CDC), over 37 million Americans—about 1 in 10 people—have diabetes, and approximately 1 in 5 of them don't even know they have it. Additionally, over 96 million adults are estimated to have prediabetes, a condition that often leads to type 2 diabetes if not addressed.\n",
    "\n",
    "Diabetes is not just a condition of high blood sugar; it significantly increases the risk of heart disease, kidney failure, nerve damage, hypertension, and even vision loss. It disproportionately affects certain demographic groups based on age, race, gender, and socioeconomic status. Lifestyle factors such as smoking history, obesity (BMI), and hypertension are also closely linked to its onset and progression.\n",
    "\n",
    "In this notebook, we explore a dataset containing various features related to individuals across the USA to better understand the patterns, correlations, and risk factors that may contribute to a diabetes diagnosis. The dataset includes demographic details like gender, age, race, and location, as well as medical factors such as blood_glucose_level, hbA1c_level, bmi, heart_disease, and more.\n",
    "\n",
    "Our goal is to analyze these features and develop a classification model that can help predict whether an individual is diabetic, providing insights that could assist in early detection and preventive healthcare strategies."
   ]
  },
  {
   "cell_type": "markdown",
   "id": "4b274c71",
   "metadata": {
    "papermill": {
     "duration": 0.018623,
     "end_time": "2025-04-14T19:49:51.270311",
     "exception": false,
     "start_time": "2025-04-14T19:49:51.251688",
     "status": "completed"
    },
    "tags": []
   },
   "source": [
    "## 1. Importing Libraries and reading data "
   ]
  },
  {
   "cell_type": "code",
   "execution_count": 1,
   "id": "9f519a75",
   "metadata": {
    "execution": {
     "iopub.execute_input": "2025-04-14T19:49:51.316127Z",
     "iopub.status.busy": "2025-04-14T19:49:51.315655Z",
     "iopub.status.idle": "2025-04-14T19:49:54.575466Z",
     "shell.execute_reply": "2025-04-14T19:49:54.574592Z"
    },
    "papermill": {
     "duration": 3.285962,
     "end_time": "2025-04-14T19:49:54.577285",
     "exception": false,
     "start_time": "2025-04-14T19:49:51.291323",
     "status": "completed"
    },
    "tags": []
   },
   "outputs": [],
   "source": [
    "import pandas as pd \n",
    "import numpy as np\n",
    "import matplotlib.pyplot as plt \n",
    "import seaborn as sns\n",
    "%matplotlib inline \n",
    "from sklearn.preprocessing import StandardScaler, OneHotEncoder\n",
    "from sklearn.model_selection import train_test_split\n",
    "from sklearn.ensemble import RandomForestClassifier, GradientBoostingClassifier\n",
    "from sklearn.linear_model import LogisticRegression\n",
    "from sklearn.svm import SVC\n",
    "from sklearn.neighbors import KNeighborsClassifier\n",
    "from sklearn.metrics import classification_report\n",
    "import xgboost as xgb\n",
    "from imblearn.over_sampling import SMOTE\n",
    "from sklearn.metrics import roc_auc_score, confusion_matrix, ConfusionMatrixDisplay\n"
   ]
  },
  {
   "cell_type": "code",
   "execution_count": 2,
   "id": "a1fd2cb3",
   "metadata": {
    "execution": {
     "iopub.execute_input": "2025-04-14T19:49:54.605636Z",
     "iopub.status.busy": "2025-04-14T19:49:54.605194Z",
     "iopub.status.idle": "2025-04-14T19:49:55.126939Z",
     "shell.execute_reply": "2025-04-14T19:49:55.126013Z"
    },
    "papermill": {
     "duration": 0.537949,
     "end_time": "2025-04-14T19:49:55.128695",
     "exception": false,
     "start_time": "2025-04-14T19:49:54.590746",
     "status": "completed"
    },
    "tags": []
   },
   "outputs": [],
   "source": [
    "# Read the dataset into a data frame\n",
    "df = pd.read_csv(\"/kaggle/input/diabetes-clinical-dataset100k-rows/diabetes_dataset_with_notes.csv\")"
   ]
  },
  {
   "cell_type": "code",
   "execution_count": 3,
   "id": "f96a4bee",
   "metadata": {
    "execution": {
     "iopub.execute_input": "2025-04-14T19:49:55.157061Z",
     "iopub.status.busy": "2025-04-14T19:49:55.156641Z",
     "iopub.status.idle": "2025-04-14T19:49:55.185221Z",
     "shell.execute_reply": "2025-04-14T19:49:55.184208Z"
    },
    "papermill": {
     "duration": 0.044118,
     "end_time": "2025-04-14T19:49:55.186704",
     "exception": false,
     "start_time": "2025-04-14T19:49:55.142586",
     "status": "completed"
    },
    "tags": []
   },
   "outputs": [
    {
     "data": {
      "text/html": [
       "<div>\n",
       "<style scoped>\n",
       "    .dataframe tbody tr th:only-of-type {\n",
       "        vertical-align: middle;\n",
       "    }\n",
       "\n",
       "    .dataframe tbody tr th {\n",
       "        vertical-align: top;\n",
       "    }\n",
       "\n",
       "    .dataframe thead th {\n",
       "        text-align: right;\n",
       "    }\n",
       "</style>\n",
       "<table border=\"1\" class=\"dataframe\">\n",
       "  <thead>\n",
       "    <tr style=\"text-align: right;\">\n",
       "      <th></th>\n",
       "      <th>year</th>\n",
       "      <th>gender</th>\n",
       "      <th>age</th>\n",
       "      <th>location</th>\n",
       "      <th>race:AfricanAmerican</th>\n",
       "      <th>race:Asian</th>\n",
       "      <th>race:Caucasian</th>\n",
       "      <th>race:Hispanic</th>\n",
       "      <th>race:Other</th>\n",
       "      <th>hypertension</th>\n",
       "      <th>heart_disease</th>\n",
       "      <th>smoking_history</th>\n",
       "      <th>bmi</th>\n",
       "      <th>hbA1c_level</th>\n",
       "      <th>blood_glucose_level</th>\n",
       "      <th>diabetes</th>\n",
       "      <th>clinical_notes</th>\n",
       "    </tr>\n",
       "  </thead>\n",
       "  <tbody>\n",
       "    <tr>\n",
       "      <th>0</th>\n",
       "      <td>2020</td>\n",
       "      <td>Female</td>\n",
       "      <td>32.0</td>\n",
       "      <td>Alabama</td>\n",
       "      <td>0</td>\n",
       "      <td>0</td>\n",
       "      <td>0</td>\n",
       "      <td>0</td>\n",
       "      <td>1</td>\n",
       "      <td>0</td>\n",
       "      <td>0</td>\n",
       "      <td>never</td>\n",
       "      <td>27.32</td>\n",
       "      <td>5.0</td>\n",
       "      <td>100</td>\n",
       "      <td>0</td>\n",
       "      <td>Overweight, advised dietary and exercise modif...</td>\n",
       "    </tr>\n",
       "    <tr>\n",
       "      <th>1</th>\n",
       "      <td>2015</td>\n",
       "      <td>Female</td>\n",
       "      <td>29.0</td>\n",
       "      <td>Alabama</td>\n",
       "      <td>0</td>\n",
       "      <td>1</td>\n",
       "      <td>0</td>\n",
       "      <td>0</td>\n",
       "      <td>0</td>\n",
       "      <td>0</td>\n",
       "      <td>0</td>\n",
       "      <td>never</td>\n",
       "      <td>19.95</td>\n",
       "      <td>5.0</td>\n",
       "      <td>90</td>\n",
       "      <td>0</td>\n",
       "      <td>Healthy BMI range.</td>\n",
       "    </tr>\n",
       "    <tr>\n",
       "      <th>2</th>\n",
       "      <td>2015</td>\n",
       "      <td>Male</td>\n",
       "      <td>18.0</td>\n",
       "      <td>Alabama</td>\n",
       "      <td>0</td>\n",
       "      <td>0</td>\n",
       "      <td>0</td>\n",
       "      <td>0</td>\n",
       "      <td>1</td>\n",
       "      <td>0</td>\n",
       "      <td>0</td>\n",
       "      <td>never</td>\n",
       "      <td>23.76</td>\n",
       "      <td>4.8</td>\n",
       "      <td>160</td>\n",
       "      <td>0</td>\n",
       "      <td>Young patient, generally lower risk but needs ...</td>\n",
       "    </tr>\n",
       "    <tr>\n",
       "      <th>3</th>\n",
       "      <td>2015</td>\n",
       "      <td>Male</td>\n",
       "      <td>41.0</td>\n",
       "      <td>Alabama</td>\n",
       "      <td>0</td>\n",
       "      <td>0</td>\n",
       "      <td>1</td>\n",
       "      <td>0</td>\n",
       "      <td>0</td>\n",
       "      <td>0</td>\n",
       "      <td>0</td>\n",
       "      <td>never</td>\n",
       "      <td>27.32</td>\n",
       "      <td>4.0</td>\n",
       "      <td>159</td>\n",
       "      <td>0</td>\n",
       "      <td>Overweight, advised dietary and exercise modif...</td>\n",
       "    </tr>\n",
       "    <tr>\n",
       "      <th>4</th>\n",
       "      <td>2016</td>\n",
       "      <td>Female</td>\n",
       "      <td>52.0</td>\n",
       "      <td>Alabama</td>\n",
       "      <td>1</td>\n",
       "      <td>0</td>\n",
       "      <td>0</td>\n",
       "      <td>0</td>\n",
       "      <td>0</td>\n",
       "      <td>0</td>\n",
       "      <td>0</td>\n",
       "      <td>never</td>\n",
       "      <td>23.75</td>\n",
       "      <td>6.5</td>\n",
       "      <td>90</td>\n",
       "      <td>0</td>\n",
       "      <td>Healthy BMI range. High HbA1c level, indicativ...</td>\n",
       "    </tr>\n",
       "  </tbody>\n",
       "</table>\n",
       "</div>"
      ],
      "text/plain": [
       "   year  gender   age location  race:AfricanAmerican  race:Asian  \\\n",
       "0  2020  Female  32.0  Alabama                     0           0   \n",
       "1  2015  Female  29.0  Alabama                     0           1   \n",
       "2  2015    Male  18.0  Alabama                     0           0   \n",
       "3  2015    Male  41.0  Alabama                     0           0   \n",
       "4  2016  Female  52.0  Alabama                     1           0   \n",
       "\n",
       "   race:Caucasian  race:Hispanic  race:Other  hypertension  heart_disease  \\\n",
       "0               0              0           1             0              0   \n",
       "1               0              0           0             0              0   \n",
       "2               0              0           1             0              0   \n",
       "3               1              0           0             0              0   \n",
       "4               0              0           0             0              0   \n",
       "\n",
       "  smoking_history    bmi  hbA1c_level  blood_glucose_level  diabetes  \\\n",
       "0           never  27.32          5.0                  100         0   \n",
       "1           never  19.95          5.0                   90         0   \n",
       "2           never  23.76          4.8                  160         0   \n",
       "3           never  27.32          4.0                  159         0   \n",
       "4           never  23.75          6.5                   90         0   \n",
       "\n",
       "                                      clinical_notes  \n",
       "0  Overweight, advised dietary and exercise modif...  \n",
       "1                                 Healthy BMI range.  \n",
       "2  Young patient, generally lower risk but needs ...  \n",
       "3  Overweight, advised dietary and exercise modif...  \n",
       "4  Healthy BMI range. High HbA1c level, indicativ...  "
      ]
     },
     "execution_count": 3,
     "metadata": {},
     "output_type": "execute_result"
    }
   ],
   "source": [
    "df.head()"
   ]
  },
  {
   "cell_type": "code",
   "execution_count": 4,
   "id": "4d43b0be",
   "metadata": {
    "execution": {
     "iopub.execute_input": "2025-04-14T19:49:55.215143Z",
     "iopub.status.busy": "2025-04-14T19:49:55.214748Z",
     "iopub.status.idle": "2025-04-14T19:49:55.260243Z",
     "shell.execute_reply": "2025-04-14T19:49:55.259109Z"
    },
    "papermill": {
     "duration": 0.061442,
     "end_time": "2025-04-14T19:49:55.262004",
     "exception": false,
     "start_time": "2025-04-14T19:49:55.200562",
     "status": "completed"
    },
    "tags": []
   },
   "outputs": [
    {
     "name": "stdout",
     "output_type": "stream",
     "text": [
      "<class 'pandas.core.frame.DataFrame'>\n",
      "RangeIndex: 100000 entries, 0 to 99999\n",
      "Data columns (total 17 columns):\n",
      " #   Column                Non-Null Count   Dtype  \n",
      "---  ------                --------------   -----  \n",
      " 0   year                  100000 non-null  int64  \n",
      " 1   gender                100000 non-null  object \n",
      " 2   age                   100000 non-null  float64\n",
      " 3   location              100000 non-null  object \n",
      " 4   race:AfricanAmerican  100000 non-null  int64  \n",
      " 5   race:Asian            100000 non-null  int64  \n",
      " 6   race:Caucasian        100000 non-null  int64  \n",
      " 7   race:Hispanic         100000 non-null  int64  \n",
      " 8   race:Other            100000 non-null  int64  \n",
      " 9   hypertension          100000 non-null  int64  \n",
      " 10  heart_disease         100000 non-null  int64  \n",
      " 11  smoking_history       100000 non-null  object \n",
      " 12  bmi                   100000 non-null  float64\n",
      " 13  hbA1c_level           100000 non-null  float64\n",
      " 14  blood_glucose_level   100000 non-null  int64  \n",
      " 15  diabetes              100000 non-null  int64  \n",
      " 16  clinical_notes        100000 non-null  object \n",
      "dtypes: float64(3), int64(10), object(4)\n",
      "memory usage: 13.0+ MB\n"
     ]
    }
   ],
   "source": [
    "df.info()"
   ]
  },
  {
   "cell_type": "code",
   "execution_count": 5,
   "id": "fc5a6e30",
   "metadata": {
    "execution": {
     "iopub.execute_input": "2025-04-14T19:49:55.298854Z",
     "iopub.status.busy": "2025-04-14T19:49:55.298382Z",
     "iopub.status.idle": "2025-04-14T19:49:55.373257Z",
     "shell.execute_reply": "2025-04-14T19:49:55.372271Z"
    },
    "papermill": {
     "duration": 0.096073,
     "end_time": "2025-04-14T19:49:55.375084",
     "exception": false,
     "start_time": "2025-04-14T19:49:55.279011",
     "status": "completed"
    },
    "tags": []
   },
   "outputs": [
    {
     "data": {
      "text/html": [
       "<div>\n",
       "<style scoped>\n",
       "    .dataframe tbody tr th:only-of-type {\n",
       "        vertical-align: middle;\n",
       "    }\n",
       "\n",
       "    .dataframe tbody tr th {\n",
       "        vertical-align: top;\n",
       "    }\n",
       "\n",
       "    .dataframe thead th {\n",
       "        text-align: right;\n",
       "    }\n",
       "</style>\n",
       "<table border=\"1\" class=\"dataframe\">\n",
       "  <thead>\n",
       "    <tr style=\"text-align: right;\">\n",
       "      <th></th>\n",
       "      <th>year</th>\n",
       "      <th>age</th>\n",
       "      <th>race:AfricanAmerican</th>\n",
       "      <th>race:Asian</th>\n",
       "      <th>race:Caucasian</th>\n",
       "      <th>race:Hispanic</th>\n",
       "      <th>race:Other</th>\n",
       "      <th>hypertension</th>\n",
       "      <th>heart_disease</th>\n",
       "      <th>bmi</th>\n",
       "      <th>hbA1c_level</th>\n",
       "      <th>blood_glucose_level</th>\n",
       "      <th>diabetes</th>\n",
       "    </tr>\n",
       "  </thead>\n",
       "  <tbody>\n",
       "    <tr>\n",
       "      <th>count</th>\n",
       "      <td>100000.000000</td>\n",
       "      <td>100000.000000</td>\n",
       "      <td>100000.000000</td>\n",
       "      <td>100000.000000</td>\n",
       "      <td>100000.000000</td>\n",
       "      <td>100000.00000</td>\n",
       "      <td>100000.000000</td>\n",
       "      <td>100000.00000</td>\n",
       "      <td>100000.000000</td>\n",
       "      <td>100000.000000</td>\n",
       "      <td>100000.000000</td>\n",
       "      <td>100000.000000</td>\n",
       "      <td>100000.000000</td>\n",
       "    </tr>\n",
       "    <tr>\n",
       "      <th>mean</th>\n",
       "      <td>2018.360820</td>\n",
       "      <td>41.885856</td>\n",
       "      <td>0.202230</td>\n",
       "      <td>0.200150</td>\n",
       "      <td>0.198760</td>\n",
       "      <td>0.19888</td>\n",
       "      <td>0.199980</td>\n",
       "      <td>0.07485</td>\n",
       "      <td>0.039420</td>\n",
       "      <td>27.320767</td>\n",
       "      <td>5.527507</td>\n",
       "      <td>138.058060</td>\n",
       "      <td>0.085000</td>\n",
       "    </tr>\n",
       "    <tr>\n",
       "      <th>std</th>\n",
       "      <td>1.345239</td>\n",
       "      <td>22.516840</td>\n",
       "      <td>0.401665</td>\n",
       "      <td>0.400114</td>\n",
       "      <td>0.399069</td>\n",
       "      <td>0.39916</td>\n",
       "      <td>0.399987</td>\n",
       "      <td>0.26315</td>\n",
       "      <td>0.194593</td>\n",
       "      <td>6.636783</td>\n",
       "      <td>1.070672</td>\n",
       "      <td>40.708136</td>\n",
       "      <td>0.278883</td>\n",
       "    </tr>\n",
       "    <tr>\n",
       "      <th>min</th>\n",
       "      <td>2015.000000</td>\n",
       "      <td>0.080000</td>\n",
       "      <td>0.000000</td>\n",
       "      <td>0.000000</td>\n",
       "      <td>0.000000</td>\n",
       "      <td>0.00000</td>\n",
       "      <td>0.000000</td>\n",
       "      <td>0.00000</td>\n",
       "      <td>0.000000</td>\n",
       "      <td>10.010000</td>\n",
       "      <td>3.500000</td>\n",
       "      <td>80.000000</td>\n",
       "      <td>0.000000</td>\n",
       "    </tr>\n",
       "    <tr>\n",
       "      <th>25%</th>\n",
       "      <td>2019.000000</td>\n",
       "      <td>24.000000</td>\n",
       "      <td>0.000000</td>\n",
       "      <td>0.000000</td>\n",
       "      <td>0.000000</td>\n",
       "      <td>0.00000</td>\n",
       "      <td>0.000000</td>\n",
       "      <td>0.00000</td>\n",
       "      <td>0.000000</td>\n",
       "      <td>23.630000</td>\n",
       "      <td>4.800000</td>\n",
       "      <td>100.000000</td>\n",
       "      <td>0.000000</td>\n",
       "    </tr>\n",
       "    <tr>\n",
       "      <th>50%</th>\n",
       "      <td>2019.000000</td>\n",
       "      <td>43.000000</td>\n",
       "      <td>0.000000</td>\n",
       "      <td>0.000000</td>\n",
       "      <td>0.000000</td>\n",
       "      <td>0.00000</td>\n",
       "      <td>0.000000</td>\n",
       "      <td>0.00000</td>\n",
       "      <td>0.000000</td>\n",
       "      <td>27.320000</td>\n",
       "      <td>5.800000</td>\n",
       "      <td>140.000000</td>\n",
       "      <td>0.000000</td>\n",
       "    </tr>\n",
       "    <tr>\n",
       "      <th>75%</th>\n",
       "      <td>2019.000000</td>\n",
       "      <td>60.000000</td>\n",
       "      <td>0.000000</td>\n",
       "      <td>0.000000</td>\n",
       "      <td>0.000000</td>\n",
       "      <td>0.00000</td>\n",
       "      <td>0.000000</td>\n",
       "      <td>0.00000</td>\n",
       "      <td>0.000000</td>\n",
       "      <td>29.580000</td>\n",
       "      <td>6.200000</td>\n",
       "      <td>159.000000</td>\n",
       "      <td>0.000000</td>\n",
       "    </tr>\n",
       "    <tr>\n",
       "      <th>max</th>\n",
       "      <td>2022.000000</td>\n",
       "      <td>80.000000</td>\n",
       "      <td>1.000000</td>\n",
       "      <td>1.000000</td>\n",
       "      <td>1.000000</td>\n",
       "      <td>1.00000</td>\n",
       "      <td>1.000000</td>\n",
       "      <td>1.00000</td>\n",
       "      <td>1.000000</td>\n",
       "      <td>95.690000</td>\n",
       "      <td>9.000000</td>\n",
       "      <td>300.000000</td>\n",
       "      <td>1.000000</td>\n",
       "    </tr>\n",
       "  </tbody>\n",
       "</table>\n",
       "</div>"
      ],
      "text/plain": [
       "                year            age  race:AfricanAmerican     race:Asian  \\\n",
       "count  100000.000000  100000.000000         100000.000000  100000.000000   \n",
       "mean     2018.360820      41.885856              0.202230       0.200150   \n",
       "std         1.345239      22.516840              0.401665       0.400114   \n",
       "min      2015.000000       0.080000              0.000000       0.000000   \n",
       "25%      2019.000000      24.000000              0.000000       0.000000   \n",
       "50%      2019.000000      43.000000              0.000000       0.000000   \n",
       "75%      2019.000000      60.000000              0.000000       0.000000   \n",
       "max      2022.000000      80.000000              1.000000       1.000000   \n",
       "\n",
       "       race:Caucasian  race:Hispanic     race:Other  hypertension  \\\n",
       "count   100000.000000   100000.00000  100000.000000  100000.00000   \n",
       "mean         0.198760        0.19888       0.199980       0.07485   \n",
       "std          0.399069        0.39916       0.399987       0.26315   \n",
       "min          0.000000        0.00000       0.000000       0.00000   \n",
       "25%          0.000000        0.00000       0.000000       0.00000   \n",
       "50%          0.000000        0.00000       0.000000       0.00000   \n",
       "75%          0.000000        0.00000       0.000000       0.00000   \n",
       "max          1.000000        1.00000       1.000000       1.00000   \n",
       "\n",
       "       heart_disease            bmi    hbA1c_level  blood_glucose_level  \\\n",
       "count  100000.000000  100000.000000  100000.000000        100000.000000   \n",
       "mean        0.039420      27.320767       5.527507           138.058060   \n",
       "std         0.194593       6.636783       1.070672            40.708136   \n",
       "min         0.000000      10.010000       3.500000            80.000000   \n",
       "25%         0.000000      23.630000       4.800000           100.000000   \n",
       "50%         0.000000      27.320000       5.800000           140.000000   \n",
       "75%         0.000000      29.580000       6.200000           159.000000   \n",
       "max         1.000000      95.690000       9.000000           300.000000   \n",
       "\n",
       "            diabetes  \n",
       "count  100000.000000  \n",
       "mean        0.085000  \n",
       "std         0.278883  \n",
       "min         0.000000  \n",
       "25%         0.000000  \n",
       "50%         0.000000  \n",
       "75%         0.000000  \n",
       "max         1.000000  "
      ]
     },
     "execution_count": 5,
     "metadata": {},
     "output_type": "execute_result"
    }
   ],
   "source": [
    "df.describe()"
   ]
  },
  {
   "cell_type": "markdown",
   "id": "aa437a3a",
   "metadata": {
    "papermill": {
     "duration": 0.013333,
     "end_time": "2025-04-14T19:49:55.403465",
     "exception": false,
     "start_time": "2025-04-14T19:49:55.390132",
     "status": "completed"
    },
    "tags": []
   },
   "source": [
    "## 2. Exploratory Data Analysis"
   ]
  },
  {
   "cell_type": "markdown",
   "id": "2713a890",
   "metadata": {
    "papermill": {
     "duration": 0.013601,
     "end_time": "2025-04-14T19:49:55.430926",
     "exception": false,
     "start_time": "2025-04-14T19:49:55.417325",
     "status": "completed"
    },
    "tags": []
   },
   "source": [
    "### Year"
   ]
  },
  {
   "cell_type": "code",
   "execution_count": 6,
   "id": "14a55232",
   "metadata": {
    "execution": {
     "iopub.execute_input": "2025-04-14T19:49:55.459440Z",
     "iopub.status.busy": "2025-04-14T19:49:55.459075Z",
     "iopub.status.idle": "2025-04-14T19:49:55.466791Z",
     "shell.execute_reply": "2025-04-14T19:49:55.466016Z"
    },
    "papermill": {
     "duration": 0.023664,
     "end_time": "2025-04-14T19:49:55.468335",
     "exception": false,
     "start_time": "2025-04-14T19:49:55.444671",
     "status": "completed"
    },
    "tags": []
   },
   "outputs": [],
   "source": [
    "# Exploring the year column\n",
    "year = df['year'].value_counts().reset_index().rename(columns={'count':'number_of_entires'})"
   ]
  },
  {
   "cell_type": "code",
   "execution_count": 7,
   "id": "c25d8b98",
   "metadata": {
    "execution": {
     "iopub.execute_input": "2025-04-14T19:49:55.498711Z",
     "iopub.status.busy": "2025-04-14T19:49:55.498313Z",
     "iopub.status.idle": "2025-04-14T19:49:55.506143Z",
     "shell.execute_reply": "2025-04-14T19:49:55.505186Z"
    },
    "papermill": {
     "duration": 0.024552,
     "end_time": "2025-04-14T19:49:55.507577",
     "exception": false,
     "start_time": "2025-04-14T19:49:55.483025",
     "status": "completed"
    },
    "tags": []
   },
   "outputs": [
    {
     "data": {
      "text/html": [
       "<div>\n",
       "<style scoped>\n",
       "    .dataframe tbody tr th:only-of-type {\n",
       "        vertical-align: middle;\n",
       "    }\n",
       "\n",
       "    .dataframe tbody tr th {\n",
       "        vertical-align: top;\n",
       "    }\n",
       "\n",
       "    .dataframe thead th {\n",
       "        text-align: right;\n",
       "    }\n",
       "</style>\n",
       "<table border=\"1\" class=\"dataframe\">\n",
       "  <thead>\n",
       "    <tr style=\"text-align: right;\">\n",
       "      <th></th>\n",
       "      <th>year</th>\n",
       "      <th>number_of_entires</th>\n",
       "    </tr>\n",
       "  </thead>\n",
       "  <tbody>\n",
       "    <tr>\n",
       "      <th>0</th>\n",
       "      <td>2019</td>\n",
       "      <td>79745</td>\n",
       "    </tr>\n",
       "    <tr>\n",
       "      <th>1</th>\n",
       "      <td>2015</td>\n",
       "      <td>8760</td>\n",
       "    </tr>\n",
       "    <tr>\n",
       "      <th>2</th>\n",
       "      <td>2016</td>\n",
       "      <td>8760</td>\n",
       "    </tr>\n",
       "    <tr>\n",
       "      <th>3</th>\n",
       "      <td>2018</td>\n",
       "      <td>2678</td>\n",
       "    </tr>\n",
       "    <tr>\n",
       "      <th>4</th>\n",
       "      <td>2020</td>\n",
       "      <td>42</td>\n",
       "    </tr>\n",
       "    <tr>\n",
       "      <th>5</th>\n",
       "      <td>2022</td>\n",
       "      <td>8</td>\n",
       "    </tr>\n",
       "    <tr>\n",
       "      <th>6</th>\n",
       "      <td>2021</td>\n",
       "      <td>7</td>\n",
       "    </tr>\n",
       "  </tbody>\n",
       "</table>\n",
       "</div>"
      ],
      "text/plain": [
       "   year  number_of_entires\n",
       "0  2019              79745\n",
       "1  2015               8760\n",
       "2  2016               8760\n",
       "3  2018               2678\n",
       "4  2020                 42\n",
       "5  2022                  8\n",
       "6  2021                  7"
      ]
     },
     "execution_count": 7,
     "metadata": {},
     "output_type": "execute_result"
    }
   ],
   "source": [
    "year"
   ]
  },
  {
   "cell_type": "markdown",
   "id": "e85f2ade",
   "metadata": {
    "papermill": {
     "duration": 0.01365,
     "end_time": "2025-04-14T19:49:55.535741",
     "exception": false,
     "start_time": "2025-04-14T19:49:55.522091",
     "status": "completed"
    },
    "tags": []
   },
   "source": [
    "We can observe that the data frequency for 2015, 2016, 2019 are way better than data frequency for 2020, 2021, 2022."
   ]
  },
  {
   "cell_type": "markdown",
   "id": "e42d4aba",
   "metadata": {
    "papermill": {
     "duration": 0.013623,
     "end_time": "2025-04-14T19:49:55.563377",
     "exception": false,
     "start_time": "2025-04-14T19:49:55.549754",
     "status": "completed"
    },
    "tags": []
   },
   "source": [
    " ### Gender "
   ]
  },
  {
   "cell_type": "code",
   "execution_count": 8,
   "id": "b7495840",
   "metadata": {
    "execution": {
     "iopub.execute_input": "2025-04-14T19:49:55.592637Z",
     "iopub.status.busy": "2025-04-14T19:49:55.592322Z",
     "iopub.status.idle": "2025-04-14T19:49:55.608725Z",
     "shell.execute_reply": "2025-04-14T19:49:55.607772Z"
    },
    "papermill": {
     "duration": 0.032902,
     "end_time": "2025-04-14T19:49:55.610169",
     "exception": false,
     "start_time": "2025-04-14T19:49:55.577267",
     "status": "completed"
    },
    "tags": []
   },
   "outputs": [
    {
     "data": {
      "text/html": [
       "<div>\n",
       "<style scoped>\n",
       "    .dataframe tbody tr th:only-of-type {\n",
       "        vertical-align: middle;\n",
       "    }\n",
       "\n",
       "    .dataframe tbody tr th {\n",
       "        vertical-align: top;\n",
       "    }\n",
       "\n",
       "    .dataframe thead th {\n",
       "        text-align: right;\n",
       "    }\n",
       "</style>\n",
       "<table border=\"1\" class=\"dataframe\">\n",
       "  <thead>\n",
       "    <tr style=\"text-align: right;\">\n",
       "      <th></th>\n",
       "      <th>gender</th>\n",
       "      <th>count</th>\n",
       "    </tr>\n",
       "  </thead>\n",
       "  <tbody>\n",
       "    <tr>\n",
       "      <th>0</th>\n",
       "      <td>Female</td>\n",
       "      <td>58552</td>\n",
       "    </tr>\n",
       "    <tr>\n",
       "      <th>1</th>\n",
       "      <td>Male</td>\n",
       "      <td>41430</td>\n",
       "    </tr>\n",
       "    <tr>\n",
       "      <th>2</th>\n",
       "      <td>Other</td>\n",
       "      <td>18</td>\n",
       "    </tr>\n",
       "  </tbody>\n",
       "</table>\n",
       "</div>"
      ],
      "text/plain": [
       "   gender  count\n",
       "0  Female  58552\n",
       "1    Male  41430\n",
       "2   Other     18"
      ]
     },
     "execution_count": 8,
     "metadata": {},
     "output_type": "execute_result"
    }
   ],
   "source": [
    "gender = df['gender'].value_counts().reset_index().rename(columns={0:'No of entries'})\n",
    "gender"
   ]
  },
  {
   "cell_type": "code",
   "execution_count": 9,
   "id": "5c489eb8",
   "metadata": {
    "execution": {
     "iopub.execute_input": "2025-04-14T19:49:55.640225Z",
     "iopub.status.busy": "2025-04-14T19:49:55.639770Z",
     "iopub.status.idle": "2025-04-14T19:49:56.009951Z",
     "shell.execute_reply": "2025-04-14T19:49:56.008988Z"
    },
    "papermill": {
     "duration": 0.386969,
     "end_time": "2025-04-14T19:49:56.011662",
     "exception": false,
     "start_time": "2025-04-14T19:49:55.624693",
     "status": "completed"
    },
    "tags": []
   },
   "outputs": [
    {
     "data": {
      "image/png": "[encoded data removed]",
      "text/plain": [
       "<Figure size 1000x1000 with 1 Axes>"
      ]
     },
     "metadata": {},
     "output_type": "display_data"
    }
   ],
   "source": [
    "plt.figure(figsize=(10,10))\n",
    "plt.bar(gender['gender'], gender['count'],color=['lightblue', 'orange', 'purple'], edgecolor='black')\n",
    "plt.title(\"Gender Distribution\")\n",
    "plt.xlabel(\"Gender\")\n",
    "plt.ylabel(\"Number of Entries\")\n",
    "plt.grid(axis='y', linestyle='--', alpha=0.7)\n",
    "plt.tight_layout()\n",
    "plt.show()"
   ]
  },
  {
   "cell_type": "markdown",
   "id": "e8f707ee",
   "metadata": {
    "papermill": {
     "duration": 0.014553,
     "end_time": "2025-04-14T19:49:56.041280",
     "exception": false,
     "start_time": "2025-04-14T19:49:56.026727",
     "status": "completed"
    },
    "tags": []
   },
   "source": [
    "### Age"
   ]
  },
  {
   "cell_type": "code",
   "execution_count": 10,
   "id": "5f1fdad3",
   "metadata": {
    "execution": {
     "iopub.execute_input": "2025-04-14T19:49:56.072149Z",
     "iopub.status.busy": "2025-04-14T19:49:56.071768Z",
     "iopub.status.idle": "2025-04-14T19:49:56.080020Z",
     "shell.execute_reply": "2025-04-14T19:49:56.079030Z"
    },
    "papermill": {
     "duration": 0.025319,
     "end_time": "2025-04-14T19:49:56.081492",
     "exception": false,
     "start_time": "2025-04-14T19:49:56.056173",
     "status": "completed"
    },
    "tags": []
   },
   "outputs": [],
   "source": [
    "# Exploring the age column\n",
    "age = df['age'].value_counts().reset_index().rename(columns={'count':'No_of_entires'})"
   ]
  },
  {
   "cell_type": "code",
   "execution_count": 11,
   "id": "b03324ce",
   "metadata": {
    "execution": {
     "iopub.execute_input": "2025-04-14T19:49:56.112846Z",
     "iopub.status.busy": "2025-04-14T19:49:56.112478Z",
     "iopub.status.idle": "2025-04-14T19:49:56.122997Z",
     "shell.execute_reply": "2025-04-14T19:49:56.122122Z"
    },
    "papermill": {
     "duration": 0.027831,
     "end_time": "2025-04-14T19:49:56.124425",
     "exception": false,
     "start_time": "2025-04-14T19:49:56.096594",
     "status": "completed"
    },
    "tags": []
   },
   "outputs": [
    {
     "data": {
      "text/html": [
       "<div>\n",
       "<style scoped>\n",
       "    .dataframe tbody tr th:only-of-type {\n",
       "        vertical-align: middle;\n",
       "    }\n",
       "\n",
       "    .dataframe tbody tr th {\n",
       "        vertical-align: top;\n",
       "    }\n",
       "\n",
       "    .dataframe thead th {\n",
       "        text-align: right;\n",
       "    }\n",
       "</style>\n",
       "<table border=\"1\" class=\"dataframe\">\n",
       "  <thead>\n",
       "    <tr style=\"text-align: right;\">\n",
       "      <th></th>\n",
       "      <th>age</th>\n",
       "      <th>No_of_entires</th>\n",
       "    </tr>\n",
       "  </thead>\n",
       "  <tbody>\n",
       "    <tr>\n",
       "      <th>0</th>\n",
       "      <td>80.00</td>\n",
       "      <td>5621</td>\n",
       "    </tr>\n",
       "    <tr>\n",
       "      <th>1</th>\n",
       "      <td>51.00</td>\n",
       "      <td>1619</td>\n",
       "    </tr>\n",
       "    <tr>\n",
       "      <th>2</th>\n",
       "      <td>47.00</td>\n",
       "      <td>1574</td>\n",
       "    </tr>\n",
       "    <tr>\n",
       "      <th>3</th>\n",
       "      <td>48.00</td>\n",
       "      <td>1568</td>\n",
       "    </tr>\n",
       "    <tr>\n",
       "      <th>4</th>\n",
       "      <td>53.00</td>\n",
       "      <td>1542</td>\n",
       "    </tr>\n",
       "    <tr>\n",
       "      <th>...</th>\n",
       "      <td>...</td>\n",
       "      <td>...</td>\n",
       "    </tr>\n",
       "    <tr>\n",
       "      <th>97</th>\n",
       "      <td>0.48</td>\n",
       "      <td>83</td>\n",
       "    </tr>\n",
       "    <tr>\n",
       "      <th>98</th>\n",
       "      <td>1.00</td>\n",
       "      <td>83</td>\n",
       "    </tr>\n",
       "    <tr>\n",
       "      <th>99</th>\n",
       "      <td>0.40</td>\n",
       "      <td>66</td>\n",
       "    </tr>\n",
       "    <tr>\n",
       "      <th>100</th>\n",
       "      <td>0.16</td>\n",
       "      <td>59</td>\n",
       "    </tr>\n",
       "    <tr>\n",
       "      <th>101</th>\n",
       "      <td>0.08</td>\n",
       "      <td>36</td>\n",
       "    </tr>\n",
       "  </tbody>\n",
       "</table>\n",
       "<p>102 rows × 2 columns</p>\n",
       "</div>"
      ],
      "text/plain": [
       "       age  No_of_entires\n",
       "0    80.00           5621\n",
       "1    51.00           1619\n",
       "2    47.00           1574\n",
       "3    48.00           1568\n",
       "4    53.00           1542\n",
       "..     ...            ...\n",
       "97    0.48             83\n",
       "98    1.00             83\n",
       "99    0.40             66\n",
       "100   0.16             59\n",
       "101   0.08             36\n",
       "\n",
       "[102 rows x 2 columns]"
      ]
     },
     "execution_count": 11,
     "metadata": {},
     "output_type": "execute_result"
    }
   ],
   "source": [
    "age"
   ]
  },
  {
   "cell_type": "markdown",
   "id": "e6b0dc81",
   "metadata": {
    "papermill": {
     "duration": 0.015124,
     "end_time": "2025-04-14T19:49:56.155205",
     "exception": false,
     "start_time": "2025-04-14T19:49:56.140081",
     "status": "completed"
    },
    "tags": []
   },
   "source": [
    "The Range of age is from 0.08 to 80. "
   ]
  },
  {
   "cell_type": "code",
   "execution_count": 12,
   "id": "450b331d",
   "metadata": {
    "execution": {
     "iopub.execute_input": "2025-04-14T19:49:56.186624Z",
     "iopub.status.busy": "2025-04-14T19:49:56.186294Z",
     "iopub.status.idle": "2025-04-14T19:49:56.427704Z",
     "shell.execute_reply": "2025-04-14T19:49:56.426751Z"
    },
    "papermill": {
     "duration": 0.258929,
     "end_time": "2025-04-14T19:49:56.429354",
     "exception": false,
     "start_time": "2025-04-14T19:49:56.170425",
     "status": "completed"
    },
    "tags": []
   },
   "outputs": [
    {
     "data": {
      "image/png": "[encoded data removed]",
      "text/plain": [
       "<Figure size 1000x600 with 1 Axes>"
      ]
     },
     "metadata": {},
     "output_type": "display_data"
    }
   ],
   "source": [
    "\n",
    "plt.figure(figsize=(10, 6))\n",
    "plt.hist(df['age'], bins=[0,10,20,30,40,50,60,70,80], edgecolor='black')\n",
    "plt.title('Number of Entries per Age Group')\n",
    "plt.xlabel('Age')\n",
    "plt.ylabel('Number of Entries')\n",
    "plt.xticks([0,10,20,30,40,50,60,70,80])\n",
    "plt.grid(axis='y', linestyle='--', alpha=0.7)\n",
    "plt.tight_layout()\n",
    "plt.show()\n"
   ]
  },
  {
   "cell_type": "markdown",
   "id": "beb20556",
   "metadata": {
    "papermill": {
     "duration": 0.015533,
     "end_time": "2025-04-14T19:49:56.460736",
     "exception": false,
     "start_time": "2025-04-14T19:49:56.445203",
     "status": "completed"
    },
    "tags": []
   },
   "source": [
    "All the age groups are represented fairly in the dataset "
   ]
  },
  {
   "cell_type": "markdown",
   "id": "b5a86de0",
   "metadata": {
    "papermill": {
     "duration": 0.015596,
     "end_time": "2025-04-14T19:49:56.491899",
     "exception": false,
     "start_time": "2025-04-14T19:49:56.476303",
     "status": "completed"
    },
    "tags": []
   },
   "source": [
    "### Race"
   ]
  },
  {
   "cell_type": "code",
   "execution_count": 13,
   "id": "b78a6b08",
   "metadata": {
    "execution": {
     "iopub.execute_input": "2025-04-14T19:49:56.524625Z",
     "iopub.status.busy": "2025-04-14T19:49:56.524315Z",
     "iopub.status.idle": "2025-04-14T19:49:56.529520Z",
     "shell.execute_reply": "2025-04-14T19:49:56.528708Z"
    },
    "papermill": {
     "duration": 0.023513,
     "end_time": "2025-04-14T19:49:56.531092",
     "exception": false,
     "start_time": "2025-04-14T19:49:56.507579",
     "status": "completed"
    },
    "tags": []
   },
   "outputs": [],
   "source": [
    "#Exploring the races \n",
    "race = df[['race:AfricanAmerican', 'race:Asian', 'race:Caucasian', 'race:Hispanic','race:Other']]"
   ]
  },
  {
   "cell_type": "code",
   "execution_count": 14,
   "id": "8d7e99c5",
   "metadata": {
    "execution": {
     "iopub.execute_input": "2025-04-14T19:49:56.615405Z",
     "iopub.status.busy": "2025-04-14T19:49:56.615059Z",
     "iopub.status.idle": "2025-04-14T19:49:56.628012Z",
     "shell.execute_reply": "2025-04-14T19:49:56.626990Z"
    },
    "papermill": {
     "duration": 0.082303,
     "end_time": "2025-04-14T19:49:56.629657",
     "exception": false,
     "start_time": "2025-04-14T19:49:56.547354",
     "status": "completed"
    },
    "tags": []
   },
   "outputs": [
    {
     "data": {
      "text/html": [
       "<div>\n",
       "<style scoped>\n",
       "    .dataframe tbody tr th:only-of-type {\n",
       "        vertical-align: middle;\n",
       "    }\n",
       "\n",
       "    .dataframe tbody tr th {\n",
       "        vertical-align: top;\n",
       "    }\n",
       "\n",
       "    .dataframe thead th {\n",
       "        text-align: right;\n",
       "    }\n",
       "</style>\n",
       "<table border=\"1\" class=\"dataframe\">\n",
       "  <thead>\n",
       "    <tr style=\"text-align: right;\">\n",
       "      <th></th>\n",
       "      <th>zero</th>\n",
       "      <th>one</th>\n",
       "    </tr>\n",
       "  </thead>\n",
       "  <tbody>\n",
       "    <tr>\n",
       "      <th>race:AfricanAmerican</th>\n",
       "      <td>79777</td>\n",
       "      <td>20223</td>\n",
       "    </tr>\n",
       "    <tr>\n",
       "      <th>race:Asian</th>\n",
       "      <td>79985</td>\n",
       "      <td>20015</td>\n",
       "    </tr>\n",
       "    <tr>\n",
       "      <th>race:Caucasian</th>\n",
       "      <td>80124</td>\n",
       "      <td>19876</td>\n",
       "    </tr>\n",
       "    <tr>\n",
       "      <th>race:Hispanic</th>\n",
       "      <td>80112</td>\n",
       "      <td>19888</td>\n",
       "    </tr>\n",
       "    <tr>\n",
       "      <th>race:Other</th>\n",
       "      <td>80002</td>\n",
       "      <td>19998</td>\n",
       "    </tr>\n",
       "  </tbody>\n",
       "</table>\n",
       "</div>"
      ],
      "text/plain": [
       "                       zero    one\n",
       "race:AfricanAmerican  79777  20223\n",
       "race:Asian            79985  20015\n",
       "race:Caucasian        80124  19876\n",
       "race:Hispanic         80112  19888\n",
       "race:Other            80002  19998"
      ]
     },
     "execution_count": 14,
     "metadata": {},
     "output_type": "execute_result"
    }
   ],
   "source": [
    "zeros = (race==0).sum()\n",
    "ones = (race==1).sum()\n",
    "race_counts = pd.DataFrame({'zero':zeros,'one':ones})\n",
    "race_counts\n"
   ]
  },
  {
   "cell_type": "code",
   "execution_count": 15,
   "id": "92a6c01b",
   "metadata": {
    "execution": {
     "iopub.execute_input": "2025-04-14T19:49:56.663648Z",
     "iopub.status.busy": "2025-04-14T19:49:56.663282Z",
     "iopub.status.idle": "2025-04-14T19:49:56.957302Z",
     "shell.execute_reply": "2025-04-14T19:49:56.956285Z"
    },
    "papermill": {
     "duration": 0.313265,
     "end_time": "2025-04-14T19:49:56.959270",
     "exception": false,
     "start_time": "2025-04-14T19:49:56.646005",
     "status": "completed"
    },
    "tags": []
   },
   "outputs": [
    {
     "data": {
      "image/png": "[encoded data removed]",
      "text/plain": [
       "<Figure size 1000x600 with 1 Axes>"
      ]
     },
     "metadata": {},
     "output_type": "display_data"
    }
   ],
   "source": [
    "plt.figure(figsize=(10,6))\n",
    "race_counts['one'].plot(kind='bar', edgecolor='black',color=['green','grey','yellow','pink','blue'])\n",
    "plt.title('Count of the races represented in the dataset')\n",
    "plt.xlabel('Races')\n",
    "plt.ylabel('Count')\n",
    "plt.grid(axis='y', linestyle='--', alpha=0.7)\n"
   ]
  },
  {
   "cell_type": "markdown",
   "id": "12c5b5a8",
   "metadata": {
    "papermill": {
     "duration": 0.016846,
     "end_time": "2025-04-14T19:49:56.994215",
     "exception": false,
     "start_time": "2025-04-14T19:49:56.977369",
     "status": "completed"
    },
    "tags": []
   },
   "source": [
    "All the races are fairly represented in the dataset "
   ]
  },
  {
   "cell_type": "markdown",
   "id": "4ea2711f",
   "metadata": {
    "papermill": {
     "duration": 0.016998,
     "end_time": "2025-04-14T19:49:57.028354",
     "exception": false,
     "start_time": "2025-04-14T19:49:57.011356",
     "status": "completed"
    },
    "tags": []
   },
   "source": [
    "### Location\n"
   ]
  },
  {
   "cell_type": "code",
   "execution_count": 16,
   "id": "9a58461d",
   "metadata": {
    "execution": {
     "iopub.execute_input": "2025-04-14T19:49:57.063878Z",
     "iopub.status.busy": "2025-04-14T19:49:57.063474Z",
     "iopub.status.idle": "2025-04-14T19:49:57.073871Z",
     "shell.execute_reply": "2025-04-14T19:49:57.072915Z"
    },
    "papermill": {
     "duration": 0.029807,
     "end_time": "2025-04-14T19:49:57.075334",
     "exception": false,
     "start_time": "2025-04-14T19:49:57.045527",
     "status": "completed"
    },
    "tags": []
   },
   "outputs": [
    {
     "data": {
      "text/plain": [
       "55"
      ]
     },
     "execution_count": 16,
     "metadata": {},
     "output_type": "execute_result"
    }
   ],
   "source": [
    "#Exploring locations\n",
    "df['location'].nunique()"
   ]
  },
  {
   "cell_type": "code",
   "execution_count": 17,
   "id": "84a85d66",
   "metadata": {
    "execution": {
     "iopub.execute_input": "2025-04-14T19:49:57.111385Z",
     "iopub.status.busy": "2025-04-14T19:49:57.111057Z",
     "iopub.status.idle": "2025-04-14T19:49:57.123868Z",
     "shell.execute_reply": "2025-04-14T19:49:57.122930Z"
    },
    "papermill": {
     "duration": 0.032619,
     "end_time": "2025-04-14T19:49:57.125383",
     "exception": false,
     "start_time": "2025-04-14T19:49:57.092764",
     "status": "completed"
    },
    "tags": []
   },
   "outputs": [
    {
     "data": {
      "text/plain": [
       "location\n",
       "Iowa                    2038\n",
       "Nebraska                2038\n",
       "Kentucky                2038\n",
       "Hawaii                  2038\n",
       "Florida                 2037\n",
       "Minnesota               2037\n",
       "New Jersey              2037\n",
       "Arkansas                2037\n",
       "Delaware                2036\n",
       "Kansas                  2036\n",
       "Michigan                2036\n",
       "Massachusetts           2036\n",
       "Maine                   2036\n",
       "District of Columbia    2036\n",
       "Louisiana               2036\n",
       "Georgia                 2036\n",
       "Oregon                  2036\n",
       "Pennsylvania            2036\n",
       "Alabama                 2036\n",
       "Illinois                2036\n",
       "Rhode Island            2035\n",
       "Colorado                2035\n",
       "Maryland                2035\n",
       "New York                2035\n",
       "Connecticut             2035\n",
       "Mississippi             2035\n",
       "Missouri                2035\n",
       "Alaska                  2035\n",
       "North Carolina          2035\n",
       "New Hampshire           2035\n",
       "North Dakota            2035\n",
       "South Dakota            2033\n",
       "Montana                 2033\n",
       "New Mexico              2033\n",
       "Idaho                   1988\n",
       "South Carolina          1987\n",
       "Indiana                 1987\n",
       "Ohio                    1986\n",
       "Oklahoma                1986\n",
       "Nevada                  1986\n",
       "Arizona                 1986\n",
       "California              1986\n",
       "Tennessee               1574\n",
       "United States           1401\n",
       "Washington              1363\n",
       "Utah                    1359\n",
       "Virginia                1350\n",
       "Vermont                 1338\n",
       "Texas                   1337\n",
       "Puerto Rico             1295\n",
       "Guam                    1204\n",
       "West Virginia           1132\n",
       "Virgin Islands           763\n",
       "Wisconsin                388\n",
       "Wyoming                  388\n",
       "Name: count, dtype: int64"
      ]
     },
     "execution_count": 17,
     "metadata": {},
     "output_type": "execute_result"
    }
   ],
   "source": [
    "df['location'].value_counts()"
   ]
  },
  {
   "cell_type": "markdown",
   "id": "a444c921",
   "metadata": {
    "papermill": {
     "duration": 0.017743,
     "end_time": "2025-04-14T19:49:57.160872",
     "exception": false,
     "start_time": "2025-04-14T19:49:57.143129",
     "status": "completed"
    },
    "tags": []
   },
   "source": [
    "Wisconsin and Wyoming have lesser entires as compared to other locations.                 "
   ]
  },
  {
   "cell_type": "markdown",
   "id": "501d81a7",
   "metadata": {
    "papermill": {
     "duration": 0.017085,
     "end_time": "2025-04-14T19:49:57.195587",
     "exception": false,
     "start_time": "2025-04-14T19:49:57.178502",
     "status": "completed"
    },
    "tags": []
   },
   "source": [
    "### Hypertension "
   ]
  },
  {
   "cell_type": "code",
   "execution_count": 18,
   "id": "21151837",
   "metadata": {
    "execution": {
     "iopub.execute_input": "2025-04-14T19:49:57.231639Z",
     "iopub.status.busy": "2025-04-14T19:49:57.231284Z",
     "iopub.status.idle": "2025-04-14T19:49:57.236384Z",
     "shell.execute_reply": "2025-04-14T19:49:57.235475Z"
    },
    "papermill": {
     "duration": 0.024885,
     "end_time": "2025-04-14T19:49:57.237841",
     "exception": false,
     "start_time": "2025-04-14T19:49:57.212956",
     "status": "completed"
    },
    "tags": []
   },
   "outputs": [],
   "source": [
    "BP = df['hypertension'].value_counts()"
   ]
  },
  {
   "cell_type": "code",
   "execution_count": 19,
   "id": "67a91b95",
   "metadata": {
    "execution": {
     "iopub.execute_input": "2025-04-14T19:49:57.274469Z",
     "iopub.status.busy": "2025-04-14T19:49:57.274105Z",
     "iopub.status.idle": "2025-04-14T19:49:57.280723Z",
     "shell.execute_reply": "2025-04-14T19:49:57.279664Z"
    },
    "papermill": {
     "duration": 0.026677,
     "end_time": "2025-04-14T19:49:57.282151",
     "exception": false,
     "start_time": "2025-04-14T19:49:57.255474",
     "status": "completed"
    },
    "tags": []
   },
   "outputs": [
    {
     "data": {
      "text/plain": [
       "No Hypertension      92515\n",
       "Have Hypertension     7485\n",
       "Name: count, dtype: int64"
      ]
     },
     "execution_count": 19,
     "metadata": {},
     "output_type": "execute_result"
    }
   ],
   "source": [
    "BP.index=['No Hypertension','Have Hypertension']\n",
    "BP"
   ]
  },
  {
   "cell_type": "code",
   "execution_count": 20,
   "id": "d346feae",
   "metadata": {
    "execution": {
     "iopub.execute_input": "2025-04-14T19:49:57.318515Z",
     "iopub.status.busy": "2025-04-14T19:49:57.318152Z",
     "iopub.status.idle": "2025-04-14T19:49:57.486335Z",
     "shell.execute_reply": "2025-04-14T19:49:57.485330Z"
    },
    "papermill": {
     "duration": 0.188176,
     "end_time": "2025-04-14T19:49:57.487942",
     "exception": false,
     "start_time": "2025-04-14T19:49:57.299766",
     "status": "completed"
    },
    "tags": []
   },
   "outputs": [
    {
     "data": {
      "image/png": "[encoded data removed]",
      "text/plain": [
       "<Figure size 800x800 with 1 Axes>"
      ]
     },
     "metadata": {},
     "output_type": "display_data"
    }
   ],
   "source": [
    "plt.figure(figsize=(8,8))\n",
    "BP.plot(kind='bar', color=['lightblue','orange'], xlabel='Hypertension', ylabel='Count', title='Count of people with and without Hypertension')\n",
    "plt.grid(axis='y', linestyle='--')\n",
    "plt.show()"
   ]
  },
  {
   "cell_type": "markdown",
   "id": "d9bff0a7",
   "metadata": {
    "papermill": {
     "duration": 0.017804,
     "end_time": "2025-04-14T19:49:57.524252",
     "exception": false,
     "start_time": "2025-04-14T19:49:57.506448",
     "status": "completed"
    },
    "tags": []
   },
   "source": [
    "Most of the people do not have hypertension "
   ]
  },
  {
   "cell_type": "markdown",
   "id": "3bbc6412",
   "metadata": {
    "papermill": {
     "duration": 0.017799,
     "end_time": "2025-04-14T19:49:57.560163",
     "exception": false,
     "start_time": "2025-04-14T19:49:57.542364",
     "status": "completed"
    },
    "tags": []
   },
   "source": [
    "### Heart Disease "
   ]
  },
  {
   "cell_type": "code",
   "execution_count": 21,
   "id": "8314aa34",
   "metadata": {
    "execution": {
     "iopub.execute_input": "2025-04-14T19:49:57.597906Z",
     "iopub.status.busy": "2025-04-14T19:49:57.597504Z",
     "iopub.status.idle": "2025-04-14T19:49:57.602830Z",
     "shell.execute_reply": "2025-04-14T19:49:57.602000Z"
    },
    "papermill": {
     "duration": 0.026095,
     "end_time": "2025-04-14T19:49:57.604368",
     "exception": false,
     "start_time": "2025-04-14T19:49:57.578273",
     "status": "completed"
    },
    "tags": []
   },
   "outputs": [],
   "source": [
    "heart_disease = df['heart_disease'].value_counts()"
   ]
  },
  {
   "cell_type": "code",
   "execution_count": 22,
   "id": "a774f79a",
   "metadata": {
    "execution": {
     "iopub.execute_input": "2025-04-14T19:49:57.642402Z",
     "iopub.status.busy": "2025-04-14T19:49:57.642052Z",
     "iopub.status.idle": "2025-04-14T19:49:57.648410Z",
     "shell.execute_reply": "2025-04-14T19:49:57.647598Z"
    },
    "papermill": {
     "duration": 0.026963,
     "end_time": "2025-04-14T19:49:57.649702",
     "exception": false,
     "start_time": "2025-04-14T19:49:57.622739",
     "status": "completed"
    },
    "tags": []
   },
   "outputs": [
    {
     "data": {
      "text/plain": [
       "No Heart Disease      96058\n",
       "Have Heart Disease     3942\n",
       "Name: count, dtype: int64"
      ]
     },
     "execution_count": 22,
     "metadata": {},
     "output_type": "execute_result"
    }
   ],
   "source": [
    "heart_disease.index=['No Heart Disease', 'Have Heart Disease']\n",
    "heart_disease"
   ]
  },
  {
   "cell_type": "code",
   "execution_count": 23,
   "id": "05e1b335",
   "metadata": {
    "execution": {
     "iopub.execute_input": "2025-04-14T19:49:57.689169Z",
     "iopub.status.busy": "2025-04-14T19:49:57.688744Z",
     "iopub.status.idle": "2025-04-14T19:49:57.855943Z",
     "shell.execute_reply": "2025-04-14T19:49:57.854911Z"
    },
    "papermill": {
     "duration": 0.189235,
     "end_time": "2025-04-14T19:49:57.857521",
     "exception": false,
     "start_time": "2025-04-14T19:49:57.668286",
     "status": "completed"
    },
    "tags": []
   },
   "outputs": [
    {
     "data": {
      "image/png": "[encoded data removed]",
      "text/plain": [
       "<Figure size 600x600 with 1 Axes>"
      ]
     },
     "metadata": {},
     "output_type": "display_data"
    }
   ],
   "source": [
    "plt.figure(figsize=(6,6))\n",
    "heart_disease.plot(kind='bar', color=['green','blue'], xlabel='Heart Disease', ylabel='Count', title='Count of people with and without Heart Disease')\n",
    "plt.grid(axis='y', linestyle='--')\n",
    "plt.show()"
   ]
  },
  {
   "cell_type": "markdown",
   "id": "00c1680e",
   "metadata": {
    "papermill": {
     "duration": 0.018601,
     "end_time": "2025-04-14T19:49:57.895129",
     "exception": false,
     "start_time": "2025-04-14T19:49:57.876528",
     "status": "completed"
    },
    "tags": []
   },
   "source": [
    "The amount of people with a heart disease is around 4000. "
   ]
  },
  {
   "cell_type": "markdown",
   "id": "e9f63d8d",
   "metadata": {
    "papermill": {
     "duration": 0.020467,
     "end_time": "2025-04-14T19:49:57.934467",
     "exception": false,
     "start_time": "2025-04-14T19:49:57.914000",
     "status": "completed"
    },
    "tags": []
   },
   "source": [
    "### Smoking"
   ]
  },
  {
   "cell_type": "code",
   "execution_count": 24,
   "id": "e1b1c16b",
   "metadata": {
    "execution": {
     "iopub.execute_input": "2025-04-14T19:49:57.974326Z",
     "iopub.status.busy": "2025-04-14T19:49:57.973933Z",
     "iopub.status.idle": "2025-04-14T19:49:57.985598Z",
     "shell.execute_reply": "2025-04-14T19:49:57.984299Z"
    },
    "papermill": {
     "duration": 0.033481,
     "end_time": "2025-04-14T19:49:57.987238",
     "exception": false,
     "start_time": "2025-04-14T19:49:57.953757",
     "status": "completed"
    },
    "tags": []
   },
   "outputs": [],
   "source": [
    "smoke = df['smoking_history'].value_counts()"
   ]
  },
  {
   "cell_type": "code",
   "execution_count": 25,
   "id": "c2f83b14",
   "metadata": {
    "execution": {
     "iopub.execute_input": "2025-04-14T19:49:58.027454Z",
     "iopub.status.busy": "2025-04-14T19:49:58.027130Z",
     "iopub.status.idle": "2025-04-14T19:49:58.033228Z",
     "shell.execute_reply": "2025-04-14T19:49:58.032316Z"
    },
    "papermill": {
     "duration": 0.027771,
     "end_time": "2025-04-14T19:49:58.034564",
     "exception": false,
     "start_time": "2025-04-14T19:49:58.006793",
     "status": "completed"
    },
    "tags": []
   },
   "outputs": [
    {
     "data": {
      "text/plain": [
       "smoking_history\n",
       "No Info        35816\n",
       "never          35095\n",
       "former          9352\n",
       "current         9286\n",
       "not current     6447\n",
       "ever            4004\n",
       "Name: count, dtype: int64"
      ]
     },
     "execution_count": 25,
     "metadata": {},
     "output_type": "execute_result"
    }
   ],
   "source": [
    "smoke"
   ]
  },
  {
   "cell_type": "code",
   "execution_count": 26,
   "id": "9fdce9eb",
   "metadata": {
    "execution": {
     "iopub.execute_input": "2025-04-14T19:49:58.074364Z",
     "iopub.status.busy": "2025-04-14T19:49:58.074025Z",
     "iopub.status.idle": "2025-04-14T19:49:58.262375Z",
     "shell.execute_reply": "2025-04-14T19:49:58.261358Z"
    },
    "papermill": {
     "duration": 0.210298,
     "end_time": "2025-04-14T19:49:58.264036",
     "exception": false,
     "start_time": "2025-04-14T19:49:58.053738",
     "status": "completed"
    },
    "tags": []
   },
   "outputs": [
    {
     "data": {
      "image/png": "[encoded data removed]",
      "text/plain": [
       "<Figure size 600x600 with 1 Axes>"
      ]
     },
     "metadata": {},
     "output_type": "display_data"
    }
   ],
   "source": [
    "plt.figure(figsize=(6,6))\n",
    "smoke.plot(kind='bar', color=['purple','yellowgreen','blue','crimson','orange','pink'], xlabel='Smoke History', ylabel='Count', title='Smoke history of people')\n",
    "plt.grid(axis='y', linestyle='--')\n",
    "plt.show()"
   ]
  },
  {
   "cell_type": "markdown",
   "id": "7c47b29d",
   "metadata": {
    "papermill": {
     "duration": 0.020407,
     "end_time": "2025-04-14T19:49:58.304875",
     "exception": false,
     "start_time": "2025-04-14T19:49:58.284468",
     "status": "completed"
    },
    "tags": []
   },
   "source": [
    "We can observe that we do not have the information of smoking history of a lot of people in this dataset. 35095 people have never smoked and 29089 people have some history of smoking "
   ]
  },
  {
   "cell_type": "markdown",
   "id": "9cf9f26a",
   "metadata": {
    "papermill": {
     "duration": 0.019523,
     "end_time": "2025-04-14T19:49:58.344178",
     "exception": false,
     "start_time": "2025-04-14T19:49:58.324655",
     "status": "completed"
    },
    "tags": []
   },
   "source": [
    "### BMI "
   ]
  },
  {
   "cell_type": "code",
   "execution_count": 27,
   "id": "a70ae2d3",
   "metadata": {
    "execution": {
     "iopub.execute_input": "2025-04-14T19:49:58.385206Z",
     "iopub.status.busy": "2025-04-14T19:49:58.384714Z",
     "iopub.status.idle": "2025-04-14T19:49:58.399454Z",
     "shell.execute_reply": "2025-04-14T19:49:58.398625Z"
    },
    "papermill": {
     "duration": 0.037113,
     "end_time": "2025-04-14T19:49:58.401072",
     "exception": false,
     "start_time": "2025-04-14T19:49:58.363959",
     "status": "completed"
    },
    "tags": []
   },
   "outputs": [],
   "source": [
    "adults = df[df['age'] >= 20] \n",
    "children = df[df['age'] < 20]"
   ]
  },
  {
   "cell_type": "code",
   "execution_count": 28,
   "id": "92d9b422",
   "metadata": {
    "execution": {
     "iopub.execute_input": "2025-04-14T19:49:58.443416Z",
     "iopub.status.busy": "2025-04-14T19:49:58.443065Z",
     "iopub.status.idle": "2025-04-14T19:49:58.689295Z",
     "shell.execute_reply": "2025-04-14T19:49:58.688199Z"
    },
    "papermill": {
     "duration": 0.270406,
     "end_time": "2025-04-14T19:49:58.691339",
     "exception": false,
     "start_time": "2025-04-14T19:49:58.420933",
     "status": "completed"
    },
    "tags": []
   },
   "outputs": [
    {
     "data": {
      "image/png": "[encoded data removed]",
      "text/plain": [
       "<Figure size 1200x800 with 1 Axes>"
      ]
     },
     "metadata": {},
     "output_type": "display_data"
    }
   ],
   "source": [
    "plt.figure(figsize=(12,8))\n",
    "plt.grid(axis='y',linestyle='--')\n",
    "plt.hist(adults['bmi'],bins=[0,18.5, 25, 30, 35, 40,50,60, 70, 80, 90, 100], edgecolor='black')\n",
    "plt.xlabel(\"Adult BMI categories\")\n",
    "plt.ylabel(\"Count of people in different BMI categories\")\n",
    "plt.title(\"Distribution of adults (>=20 years) in different BMI categories\")\n",
    "plt.show()"
   ]
  },
  {
   "cell_type": "markdown",
   "id": "7cc06994",
   "metadata": {
    "papermill": {
     "duration": 0.020464,
     "end_time": "2025-04-14T19:49:58.732836",
     "exception": false,
     "start_time": "2025-04-14T19:49:58.712372",
     "status": "completed"
    },
    "tags": []
   },
   "source": [
    "BMI categories for adults 20 and older:\n",
    "Underweight: Less than 18.5, \n",
    "Healthy Weight: 18.5 to less than 25, \n",
    "Overweight: 25 to less than 30, \n",
    "Obesity: 30 or greater, \n",
    "There are 3 categories in Obesity as well:\n",
    "Class 1 Obesity: 30 to less than 35, \n",
    "Class 2 Obesity: 35 to less than 40, \n",
    "Class 3 Obesity: (Severe Obesity) 40 or greater.\n"
   ]
  },
  {
   "cell_type": "code",
   "execution_count": 29,
   "id": "ec7ebd5c",
   "metadata": {
    "execution": {
     "iopub.execute_input": "2025-04-14T19:49:58.775583Z",
     "iopub.status.busy": "2025-04-14T19:49:58.775231Z",
     "iopub.status.idle": "2025-04-14T19:49:58.782746Z",
     "shell.execute_reply": "2025-04-14T19:49:58.781402Z"
    },
    "papermill": {
     "duration": 0.03099,
     "end_time": "2025-04-14T19:49:58.784597",
     "exception": false,
     "start_time": "2025-04-14T19:49:58.753607",
     "status": "completed"
    },
    "tags": []
   },
   "outputs": [
    {
     "name": "stdout",
     "output_type": "stream",
     "text": [
      "Underweight:  931\n"
     ]
    }
   ],
   "source": [
    "print(\"Underweight: \",adults[adults['bmi'] < 18.5].bmi.count())"
   ]
  },
  {
   "cell_type": "code",
   "execution_count": 30,
   "id": "48af4109",
   "metadata": {
    "execution": {
     "iopub.execute_input": "2025-04-14T19:49:58.828651Z",
     "iopub.status.busy": "2025-04-14T19:49:58.828340Z",
     "iopub.status.idle": "2025-04-14T19:49:58.836958Z",
     "shell.execute_reply": "2025-04-14T19:49:58.835910Z"
    },
    "papermill": {
     "duration": 0.032781,
     "end_time": "2025-04-14T19:49:58.838447",
     "exception": false,
     "start_time": "2025-04-14T19:49:58.805666",
     "status": "completed"
    },
    "tags": []
   },
   "outputs": [
    {
     "name": "stdout",
     "output_type": "stream",
     "text": [
      "Healthyweight:  16351\n"
     ]
    }
   ],
   "source": [
    "print(\"Healthyweight: \",adults[(adults['bmi'] >= 18.5) & (adults['bmi'] < 25)].bmi.count())"
   ]
  },
  {
   "cell_type": "code",
   "execution_count": 31,
   "id": "8b34c859",
   "metadata": {
    "execution": {
     "iopub.execute_input": "2025-04-14T19:49:58.882714Z",
     "iopub.status.busy": "2025-04-14T19:49:58.882378Z",
     "iopub.status.idle": "2025-04-14T19:49:58.891661Z",
     "shell.execute_reply": "2025-04-14T19:49:58.890691Z"
    },
    "papermill": {
     "duration": 0.032986,
     "end_time": "2025-04-14T19:49:58.893075",
     "exception": false,
     "start_time": "2025-04-14T19:49:58.860089",
     "status": "completed"
    },
    "tags": []
   },
   "outputs": [
    {
     "name": "stdout",
     "output_type": "stream",
     "text": [
      "Overweight:  40536\n"
     ]
    }
   ],
   "source": [
    "print(\"Overweight: \",adults[(adults['bmi'] >= 25) & (adults['bmi'] < 30)].bmi.count())"
   ]
  },
  {
   "cell_type": "code",
   "execution_count": 32,
   "id": "fa4153ba",
   "metadata": {
    "execution": {
     "iopub.execute_input": "2025-04-14T19:49:58.937075Z",
     "iopub.status.busy": "2025-04-14T19:49:58.936603Z",
     "iopub.status.idle": "2025-04-14T19:49:58.945877Z",
     "shell.execute_reply": "2025-04-14T19:49:58.944898Z"
    },
    "papermill": {
     "duration": 0.033496,
     "end_time": "2025-04-14T19:49:58.947500",
     "exception": false,
     "start_time": "2025-04-14T19:49:58.914004",
     "status": "completed"
    },
    "tags": []
   },
   "outputs": [
    {
     "name": "stdout",
     "output_type": "stream",
     "text": [
      "Obese:  22514\n"
     ]
    }
   ],
   "source": [
    "print(\"Obese: \",adults[adults['bmi'] >=30].bmi.count())"
   ]
  },
  {
   "cell_type": "markdown",
   "id": "77c4e401",
   "metadata": {
    "papermill": {
     "duration": 0.020805,
     "end_time": "2025-04-14T19:49:58.989409",
     "exception": false,
     "start_time": "2025-04-14T19:49:58.968604",
     "status": "completed"
    },
    "tags": []
   },
   "source": [
    "40536 adults lie in the range of 25-30 bmi which is the overweight category. 22514 adults in the Obesity category. "
   ]
  },
  {
   "cell_type": "code",
   "execution_count": 33,
   "id": "41b9b2f8",
   "metadata": {
    "execution": {
     "iopub.execute_input": "2025-04-14T19:49:59.033320Z",
     "iopub.status.busy": "2025-04-14T19:49:59.032977Z",
     "iopub.status.idle": "2025-04-14T19:49:59.047203Z",
     "shell.execute_reply": "2025-04-14T19:49:59.046046Z"
    },
    "papermill": {
     "duration": 0.038093,
     "end_time": "2025-04-14T19:49:59.048969",
     "exception": false,
     "start_time": "2025-04-14T19:49:59.010876",
     "status": "completed"
    },
    "tags": []
   },
   "outputs": [
    {
     "name": "stdout",
     "output_type": "stream",
     "text": [
      "Class1 Obese count:  12134\n",
      "Class2 Obese count:  5909\n",
      "Class3 Obese count:  4471\n"
     ]
    }
   ],
   "source": [
    "class1_Obese = adults[(adults['bmi'] >= 30) & (adults['bmi'] < 35)].bmi.count()\n",
    "class2_Obese = adults[(adults['bmi'] >= 35) & (adults['bmi'] < 40)].bmi.count()\n",
    "class3_Obese = adults[adults['bmi'] >= 40].bmi.count()\n",
    "print('Class1 Obese count: ',class1_Obese)\n",
    "print('Class2 Obese count: ',class2_Obese)\n",
    "print('Class3 Obese count: ',class3_Obese)\n"
   ]
  },
  {
   "cell_type": "code",
   "execution_count": 34,
   "id": "8d08d97c",
   "metadata": {
    "execution": {
     "iopub.execute_input": "2025-04-14T19:49:59.092521Z",
     "iopub.status.busy": "2025-04-14T19:49:59.092199Z",
     "iopub.status.idle": "2025-04-14T19:49:59.273192Z",
     "shell.execute_reply": "2025-04-14T19:49:59.272096Z"
    },
    "papermill": {
     "duration": 0.204688,
     "end_time": "2025-04-14T19:49:59.274806",
     "exception": false,
     "start_time": "2025-04-14T19:49:59.070118",
     "status": "completed"
    },
    "tags": []
   },
   "outputs": [
    {
     "data": {
      "image/png": "[encoded data removed]",
      "text/plain": [
       "<Figure size 600x600 with 1 Axes>"
      ]
     },
     "metadata": {},
     "output_type": "display_data"
    }
   ],
   "source": [
    "plt.figure(figsize=(6,6))\n",
    "plt.title(\"Distribution of BMI for children(< 20years)\")\n",
    "plt.grid(axis='y',linestyle='--')\n",
    "plt.hist(children['bmi'],color='orange',bins=[0,10,20,30,40,50,60,70,80],edgecolor='black')\n",
    "plt.show()"
   ]
  },
  {
   "cell_type": "markdown",
   "id": "9dc63fc7",
   "metadata": {
    "papermill": {
     "duration": 0.021593,
     "end_time": "2025-04-14T19:49:59.318634",
     "exception": false,
     "start_time": "2025-04-14T19:49:59.297041",
     "status": "completed"
    },
    "tags": []
   },
   "source": [
    "For children the BMI is calculated differently. It is based on percentiles and age/sex. We can only see the distribution of bmi here. "
   ]
  },
  {
   "cell_type": "markdown",
   "id": "b90a587c",
   "metadata": {
    "papermill": {
     "duration": 0.021636,
     "end_time": "2025-04-14T19:49:59.362526",
     "exception": false,
     "start_time": "2025-04-14T19:49:59.340890",
     "status": "completed"
    },
    "tags": []
   },
   "source": [
    "### HbA1C"
   ]
  },
  {
   "cell_type": "markdown",
   "id": "46965273",
   "metadata": {
    "papermill": {
     "duration": 0.021634,
     "end_time": "2025-04-14T19:49:59.405968",
     "exception": false,
     "start_time": "2025-04-14T19:49:59.384334",
     "status": "completed"
    },
    "tags": []
   },
   "source": [
    "An A1C test measures the percentage of your red blood cells that have glucose-coated hemoglobin. High A1C levels are a sign of high blood glucose from diabetes. Diabetes can cause serious health problems, including heart disease, kidney disease, and nerve damage.\n",
    "![](https://b2848764.smushcdn.com/2848764/wp-content/uploads/2024/01/HbA1c-Chart.webp?lossy=1&strip=1&webp=1)"
   ]
  },
  {
   "cell_type": "code",
   "execution_count": 35,
   "id": "6d928eec",
   "metadata": {
    "execution": {
     "iopub.execute_input": "2025-04-14T19:49:59.452246Z",
     "iopub.status.busy": "2025-04-14T19:49:59.451891Z",
     "iopub.status.idle": "2025-04-14T19:49:59.470957Z",
     "shell.execute_reply": "2025-04-14T19:49:59.469739Z"
    },
    "papermill": {
     "duration": 0.044817,
     "end_time": "2025-04-14T19:49:59.472651",
     "exception": false,
     "start_time": "2025-04-14T19:49:59.427834",
     "status": "completed"
    },
    "tags": []
   },
   "outputs": [
    {
     "name": "stdout",
     "output_type": "stream",
     "text": [
      "normal :  37857\n",
      "prediabetes :  41346\n",
      "diabetic :  20797\n"
     ]
    }
   ],
   "source": [
    "normal = df[df['hbA1c_level'] < 5.7].hbA1c_level.count()\n",
    "prediabetes = df[(df['hbA1c_level']>=5.7) & (df['hbA1c_level'] <=6.4)].hbA1c_level.count()\n",
    "diabetic = df[df['hbA1c_level'] >= 6.5].hbA1c_level.count()\n",
    "print(\"normal : \",normal)\n",
    "print(\"prediabetes : \",prediabetes)\n",
    "print(\"diabetic : \",diabetic)"
   ]
  },
  {
   "cell_type": "code",
   "execution_count": 36,
   "id": "ccbc12a5",
   "metadata": {
    "execution": {
     "iopub.execute_input": "2025-04-14T19:49:59.517530Z",
     "iopub.status.busy": "2025-04-14T19:49:59.517209Z",
     "iopub.status.idle": "2025-04-14T19:49:59.524116Z",
     "shell.execute_reply": "2025-04-14T19:49:59.523243Z"
    },
    "papermill": {
     "duration": 0.030953,
     "end_time": "2025-04-14T19:49:59.525543",
     "exception": false,
     "start_time": "2025-04-14T19:49:59.494590",
     "status": "completed"
    },
    "tags": []
   },
   "outputs": [
    {
     "data": {
      "text/plain": [
       "Normal         37857\n",
       "Prediabetes    41346\n",
       "Diabetes       20797\n",
       "dtype: int64"
      ]
     },
     "execution_count": 36,
     "metadata": {},
     "output_type": "execute_result"
    }
   ],
   "source": [
    "HbA1c = pd.Series([normal, prediabetes, diabetic], index=[\"Normal\",\"Prediabetes\", \"Diabetes\" ])\n",
    "HbA1c"
   ]
  },
  {
   "cell_type": "code",
   "execution_count": 37,
   "id": "66334158",
   "metadata": {
    "execution": {
     "iopub.execute_input": "2025-04-14T19:49:59.570900Z",
     "iopub.status.busy": "2025-04-14T19:49:59.570548Z",
     "iopub.status.idle": "2025-04-14T19:49:59.753356Z",
     "shell.execute_reply": "2025-04-14T19:49:59.752311Z"
    },
    "papermill": {
     "duration": 0.207604,
     "end_time": "2025-04-14T19:49:59.755444",
     "exception": false,
     "start_time": "2025-04-14T19:49:59.547840",
     "status": "completed"
    },
    "tags": []
   },
   "outputs": [
    {
     "data": {
      "image/png": "[encoded data removed]",
      "text/plain": [
       "<Figure size 600x600 with 1 Axes>"
      ]
     },
     "metadata": {},
     "output_type": "display_data"
    }
   ],
   "source": [
    "plt.figure(figsize=(6, 6))\n",
    "HbA1c.plot(kind='bar', edgecolor='Black', legend=False, color=['Green', 'Orange', 'Red'])\n",
    "plt.xlabel(\"HbA1c\")\n",
    "plt.ylabel(\"Counts\")\n",
    "plt.title(\"A1C Test results\")\n",
    "plt.grid(axis='y', linestyle='--')\n",
    "plt.show()"
   ]
  },
  {
   "cell_type": "markdown",
   "id": "8b61aeb4",
   "metadata": {
    "papermill": {
     "duration": 0.024734,
     "end_time": "2025-04-14T19:49:59.805211",
     "exception": false,
     "start_time": "2025-04-14T19:49:59.780477",
     "status": "completed"
    },
    "tags": []
   },
   "source": [
    "If we consider the definition of A1C test and above preprocessing of data, we find that most people are prediabetic. But we will be diving deep and try to find the relation between HbA1c test and if or not people with HbA1c greater than 6.4 are actually classified as diabetic. "
   ]
  },
  {
   "cell_type": "markdown",
   "id": "e78c9d56",
   "metadata": {
    "papermill": {
     "duration": 0.022784,
     "end_time": "2025-04-14T19:49:59.850886",
     "exception": false,
     "start_time": "2025-04-14T19:49:59.828102",
     "status": "completed"
    },
    "tags": []
   },
   "source": [
    "### Blood glucose level and Diabetes "
   ]
  },
  {
   "cell_type": "code",
   "execution_count": 38,
   "id": "24a0f103",
   "metadata": {
    "execution": {
     "iopub.execute_input": "2025-04-14T19:49:59.897875Z",
     "iopub.status.busy": "2025-04-14T19:49:59.897515Z",
     "iopub.status.idle": "2025-04-14T19:49:59.904685Z",
     "shell.execute_reply": "2025-04-14T19:49:59.903895Z"
    },
    "papermill": {
     "duration": 0.032367,
     "end_time": "2025-04-14T19:49:59.906128",
     "exception": false,
     "start_time": "2025-04-14T19:49:59.873761",
     "status": "completed"
    },
    "tags": []
   },
   "outputs": [
    {
     "data": {
      "text/plain": [
       "blood_glucose_level\n",
       "130    7794\n",
       "159    7759\n",
       "140    7732\n",
       "160    7712\n",
       "126    7702\n",
       "145    7679\n",
       "200    7600\n",
       "155    7575\n",
       "90     7112\n",
       "80     7106\n",
       "158    7026\n",
       "100    7025\n",
       "85     6901\n",
       "280     729\n",
       "300     674\n",
       "240     636\n",
       "260     635\n",
       "220     603\n",
       "Name: count, dtype: int64"
      ]
     },
     "execution_count": 38,
     "metadata": {},
     "output_type": "execute_result"
    }
   ],
   "source": [
    "df['blood_glucose_level'].value_counts()"
   ]
  },
  {
   "cell_type": "markdown",
   "id": "e0949030",
   "metadata": {
    "papermill": {
     "duration": 0.023992,
     "end_time": "2025-04-14T19:49:59.954161",
     "exception": false,
     "start_time": "2025-04-14T19:49:59.930169",
     "status": "completed"
    },
    "tags": []
   },
   "source": [
    "There is no information regarding the fact that if this blood_glucose_level is actually fasting blood glucose or not. If we consider it to be the fasting blood glucose level then the normal category lies between 80-100 mg/dL, prediabetic is considered to be between 100-125 mg/dL and diabetic is considered as above 125 mg/dL. "
   ]
  },
  {
   "cell_type": "markdown",
   "id": "ea8726d4",
   "metadata": {
    "papermill": {
     "duration": 0.022611,
     "end_time": "2025-04-14T19:49:59.999761",
     "exception": false,
     "start_time": "2025-04-14T19:49:59.977150",
     "status": "completed"
    },
    "tags": []
   },
   "source": [
    "If we categories these as the above mentioned classification we could see that:"
   ]
  },
  {
   "cell_type": "code",
   "execution_count": 39,
   "id": "bdf42730",
   "metadata": {
    "execution": {
     "iopub.execute_input": "2025-04-14T19:50:00.047659Z",
     "iopub.status.busy": "2025-04-14T19:50:00.047330Z",
     "iopub.status.idle": "2025-04-14T19:50:00.069528Z",
     "shell.execute_reply": "2025-04-14T19:50:00.068439Z"
    },
    "papermill": {
     "duration": 0.047857,
     "end_time": "2025-04-14T19:50:00.071244",
     "exception": false,
     "start_time": "2025-04-14T19:50:00.023387",
     "status": "completed"
    },
    "tags": []
   },
   "outputs": [
    {
     "name": "stdout",
     "output_type": "stream",
     "text": [
      "Normal:  21119\n",
      "Prediabetic:  7025\n",
      "Diabetic :  71856\n"
     ]
    }
   ],
   "source": [
    "normal = df[df['blood_glucose_level']<100].blood_glucose_level.count()\n",
    "prediabetic = df[(df['blood_glucose_level'] >= 100 ) & (df['blood_glucose_level'] < 125)].blood_glucose_level.count()\n",
    "diabetic = df[df['blood_glucose_level'] >= 125].blood_glucose_level.count()\n",
    "print(\"Normal: \", normal)\n",
    "print(\"Prediabetic: \", prediabetic)\n",
    "print(\"Diabetic : \", diabetic)"
   ]
  },
  {
   "cell_type": "code",
   "execution_count": 40,
   "id": "97c7058b",
   "metadata": {
    "execution": {
     "iopub.execute_input": "2025-04-14T19:50:00.120560Z",
     "iopub.status.busy": "2025-04-14T19:50:00.120230Z",
     "iopub.status.idle": "2025-04-14T19:50:00.126796Z",
     "shell.execute_reply": "2025-04-14T19:50:00.125894Z"
    },
    "papermill": {
     "duration": 0.032773,
     "end_time": "2025-04-14T19:50:00.128340",
     "exception": false,
     "start_time": "2025-04-14T19:50:00.095567",
     "status": "completed"
    },
    "tags": []
   },
   "outputs": [
    {
     "data": {
      "text/plain": [
       "Normal         21119\n",
       "Prediabetic     7025\n",
       "Diabetic       71856\n",
       "dtype: int64"
      ]
     },
     "execution_count": 40,
     "metadata": {},
     "output_type": "execute_result"
    }
   ],
   "source": [
    "Blood_Glucose = pd.Series([normal,prediabetic,diabetic], index=[\"Normal\", \"Prediabetic\", \"Diabetic\"])\n",
    "Blood_Glucose"
   ]
  },
  {
   "cell_type": "code",
   "execution_count": 41,
   "id": "b97fb09c",
   "metadata": {
    "execution": {
     "iopub.execute_input": "2025-04-14T19:50:00.177495Z",
     "iopub.status.busy": "2025-04-14T19:50:00.177136Z",
     "iopub.status.idle": "2025-04-14T19:50:00.327834Z",
     "shell.execute_reply": "2025-04-14T19:50:00.326799Z"
    },
    "papermill": {
     "duration": 0.177405,
     "end_time": "2025-04-14T19:50:00.329439",
     "exception": false,
     "start_time": "2025-04-14T19:50:00.152034",
     "status": "completed"
    },
    "tags": []
   },
   "outputs": [
    {
     "data": {
      "text/plain": [
       "<BarContainer object of 3 artists>"
      ]
     },
     "execution_count": 41,
     "metadata": {},
     "output_type": "execute_result"
    },
    {
     "data": {
      "image/png": "[encoded data removed]",
      "text/plain": [
       "<Figure size 800x600 with 1 Axes>"
      ]
     },
     "metadata": {},
     "output_type": "display_data"
    }
   ],
   "source": [
    "plt.figure(figsize=(8,6))\n",
    "plt.bar(Blood_Glucose.index, Blood_Glucose.values, edgecolor='Black', color=['Green', 'Orange', 'Red'])"
   ]
  },
  {
   "cell_type": "code",
   "execution_count": 42,
   "id": "e277444b",
   "metadata": {
    "execution": {
     "iopub.execute_input": "2025-04-14T19:50:00.378501Z",
     "iopub.status.busy": "2025-04-14T19:50:00.378135Z",
     "iopub.status.idle": "2025-04-14T19:50:00.385220Z",
     "shell.execute_reply": "2025-04-14T19:50:00.384277Z"
    },
    "papermill": {
     "duration": 0.033352,
     "end_time": "2025-04-14T19:50:00.386688",
     "exception": false,
     "start_time": "2025-04-14T19:50:00.353336",
     "status": "completed"
    },
    "tags": []
   },
   "outputs": [
    {
     "data": {
      "text/plain": [
       "diabetes\n",
       "0    91500\n",
       "1     8500\n",
       "Name: count, dtype: int64"
      ]
     },
     "execution_count": 42,
     "metadata": {},
     "output_type": "execute_result"
    }
   ],
   "source": [
    "df['diabetes'].value_counts()"
   ]
  },
  {
   "cell_type": "code",
   "execution_count": 43,
   "id": "1c52cddd",
   "metadata": {
    "execution": {
     "iopub.execute_input": "2025-04-14T19:50:00.435990Z",
     "iopub.status.busy": "2025-04-14T19:50:00.435572Z",
     "iopub.status.idle": "2025-04-14T19:50:00.742162Z",
     "shell.execute_reply": "2025-04-14T19:50:00.741162Z"
    },
    "papermill": {
     "duration": 0.333217,
     "end_time": "2025-04-14T19:50:00.743880",
     "exception": false,
     "start_time": "2025-04-14T19:50:00.410663",
     "status": "completed"
    },
    "tags": []
   },
   "outputs": [
    {
     "data": {
      "image/png": "[encoded data removed]",
      "text/plain": [
       "<Figure size 640x480 with 1 Axes>"
      ]
     },
     "metadata": {},
     "output_type": "display_data"
    }
   ],
   "source": [
    "sns.violinplot(y='blood_glucose_level',x = 'diabetes',data=df)\n",
    "plt.show()"
   ]
  },
  {
   "cell_type": "markdown",
   "id": "0519609f",
   "metadata": {
    "papermill": {
     "duration": 0.024456,
     "end_time": "2025-04-14T19:50:00.793416",
     "exception": false,
     "start_time": "2025-04-14T19:50:00.768960",
     "status": "completed"
    },
    "tags": []
   },
   "source": [
    "We can observe that according to the blood_glucose_level we had 71856 categorized as diabetic but in the actual diabetes classification we are getting 8500 as diabetics which is a lot less. As we can see through the Violin plot that even when the blood glucose levels are above 125 people are categorized as Non-Diabetics. Therefore we need to examine the relations between the various features to create a model that could accurately classify the people with diabetes. The dataset is imbalanced as can be seen that most people are non-diabetic. \n"
   ]
  },
  {
   "cell_type": "markdown",
   "id": "7457e2d9",
   "metadata": {
    "papermill": {
     "duration": 0.024444,
     "end_time": "2025-04-14T19:50:00.842949",
     "exception": false,
     "start_time": "2025-04-14T19:50:00.818505",
     "status": "completed"
    },
    "tags": []
   },
   "source": [
    "## 3. Preprocessing Data"
   ]
  },
  {
   "cell_type": "code",
   "execution_count": 44,
   "id": "3d2f6a04",
   "metadata": {
    "execution": {
     "iopub.execute_input": "2025-04-14T19:50:00.893594Z",
     "iopub.status.busy": "2025-04-14T19:50:00.893219Z",
     "iopub.status.idle": "2025-04-14T19:50:00.908237Z",
     "shell.execute_reply": "2025-04-14T19:50:00.907218Z"
    },
    "papermill": {
     "duration": 0.042419,
     "end_time": "2025-04-14T19:50:00.910149",
     "exception": false,
     "start_time": "2025-04-14T19:50:00.867730",
     "status": "completed"
    },
    "tags": []
   },
   "outputs": [],
   "source": [
    "# We will be dropping the clinical notes and since most people's smoking history is not known we will drop that too\n",
    "df = df.drop(['clinical_notes','smoking_history'], axis=1)"
   ]
  },
  {
   "cell_type": "code",
   "execution_count": 45,
   "id": "8e582d77",
   "metadata": {
    "execution": {
     "iopub.execute_input": "2025-04-14T19:50:00.961983Z",
     "iopub.status.busy": "2025-04-14T19:50:00.961602Z",
     "iopub.status.idle": "2025-04-14T19:50:00.967193Z",
     "shell.execute_reply": "2025-04-14T19:50:00.966366Z"
    },
    "papermill": {
     "duration": 0.033541,
     "end_time": "2025-04-14T19:50:00.968615",
     "exception": false,
     "start_time": "2025-04-14T19:50:00.935074",
     "status": "completed"
    },
    "tags": []
   },
   "outputs": [
    {
     "data": {
      "text/plain": [
       "Index(['year', 'gender', 'age', 'location', 'race:AfricanAmerican',\n",
       "       'race:Asian', 'race:Caucasian', 'race:Hispanic', 'race:Other',\n",
       "       'hypertension', 'heart_disease', 'bmi', 'hbA1c_level',\n",
       "       'blood_glucose_level', 'diabetes'],\n",
       "      dtype='object')"
      ]
     },
     "execution_count": 45,
     "metadata": {},
     "output_type": "execute_result"
    }
   ],
   "source": [
    "df.columns"
   ]
  },
  {
   "cell_type": "code",
   "execution_count": 46,
   "id": "8f2d59a3",
   "metadata": {
    "execution": {
     "iopub.execute_input": "2025-04-14T19:50:01.021105Z",
     "iopub.status.busy": "2025-04-14T19:50:01.020697Z",
     "iopub.status.idle": "2025-04-14T19:50:01.069543Z",
     "shell.execute_reply": "2025-04-14T19:50:01.068600Z"
    },
    "papermill": {
     "duration": 0.077219,
     "end_time": "2025-04-14T19:50:01.071316",
     "exception": false,
     "start_time": "2025-04-14T19:50:00.994097",
     "status": "completed"
    },
    "tags": []
   },
   "outputs": [],
   "source": [
    "# Dealing with categorical variables \n",
    "df = pd.get_dummies(df,columns=['gender'])  # Encoding the gender column \n",
    "\n",
    "#For location we will do frequency encoding\n",
    "location_freq = df['location'].value_counts(normalize=True)\n",
    "df['loc_freq'] = df['location'].map(location_freq)\n",
    "df.drop(['location'],axis=1, inplace=True)"
   ]
  },
  {
   "cell_type": "code",
   "execution_count": 47,
   "id": "8284f228",
   "metadata": {
    "execution": {
     "iopub.execute_input": "2025-04-14T19:50:01.122598Z",
     "iopub.status.busy": "2025-04-14T19:50:01.122257Z",
     "iopub.status.idle": "2025-04-14T19:50:01.138399Z",
     "shell.execute_reply": "2025-04-14T19:50:01.137326Z"
    },
    "papermill": {
     "duration": 0.043807,
     "end_time": "2025-04-14T19:50:01.139926",
     "exception": false,
     "start_time": "2025-04-14T19:50:01.096119",
     "status": "completed"
    },
    "tags": []
   },
   "outputs": [
    {
     "data": {
      "text/html": [
       "<div>\n",
       "<style scoped>\n",
       "    .dataframe tbody tr th:only-of-type {\n",
       "        vertical-align: middle;\n",
       "    }\n",
       "\n",
       "    .dataframe tbody tr th {\n",
       "        vertical-align: top;\n",
       "    }\n",
       "\n",
       "    .dataframe thead th {\n",
       "        text-align: right;\n",
       "    }\n",
       "</style>\n",
       "<table border=\"1\" class=\"dataframe\">\n",
       "  <thead>\n",
       "    <tr style=\"text-align: right;\">\n",
       "      <th></th>\n",
       "      <th>year</th>\n",
       "      <th>age</th>\n",
       "      <th>race:AfricanAmerican</th>\n",
       "      <th>race:Asian</th>\n",
       "      <th>race:Caucasian</th>\n",
       "      <th>race:Hispanic</th>\n",
       "      <th>race:Other</th>\n",
       "      <th>hypertension</th>\n",
       "      <th>heart_disease</th>\n",
       "      <th>bmi</th>\n",
       "      <th>hbA1c_level</th>\n",
       "      <th>blood_glucose_level</th>\n",
       "      <th>diabetes</th>\n",
       "      <th>gender_Female</th>\n",
       "      <th>gender_Male</th>\n",
       "      <th>gender_Other</th>\n",
       "      <th>loc_freq</th>\n",
       "    </tr>\n",
       "  </thead>\n",
       "  <tbody>\n",
       "    <tr>\n",
       "      <th>0</th>\n",
       "      <td>2020</td>\n",
       "      <td>32.0</td>\n",
       "      <td>0</td>\n",
       "      <td>0</td>\n",
       "      <td>0</td>\n",
       "      <td>0</td>\n",
       "      <td>1</td>\n",
       "      <td>0</td>\n",
       "      <td>0</td>\n",
       "      <td>27.32</td>\n",
       "      <td>5.0</td>\n",
       "      <td>100</td>\n",
       "      <td>0</td>\n",
       "      <td>True</td>\n",
       "      <td>False</td>\n",
       "      <td>False</td>\n",
       "      <td>0.02036</td>\n",
       "    </tr>\n",
       "    <tr>\n",
       "      <th>1</th>\n",
       "      <td>2015</td>\n",
       "      <td>29.0</td>\n",
       "      <td>0</td>\n",
       "      <td>1</td>\n",
       "      <td>0</td>\n",
       "      <td>0</td>\n",
       "      <td>0</td>\n",
       "      <td>0</td>\n",
       "      <td>0</td>\n",
       "      <td>19.95</td>\n",
       "      <td>5.0</td>\n",
       "      <td>90</td>\n",
       "      <td>0</td>\n",
       "      <td>True</td>\n",
       "      <td>False</td>\n",
       "      <td>False</td>\n",
       "      <td>0.02036</td>\n",
       "    </tr>\n",
       "    <tr>\n",
       "      <th>2</th>\n",
       "      <td>2015</td>\n",
       "      <td>18.0</td>\n",
       "      <td>0</td>\n",
       "      <td>0</td>\n",
       "      <td>0</td>\n",
       "      <td>0</td>\n",
       "      <td>1</td>\n",
       "      <td>0</td>\n",
       "      <td>0</td>\n",
       "      <td>23.76</td>\n",
       "      <td>4.8</td>\n",
       "      <td>160</td>\n",
       "      <td>0</td>\n",
       "      <td>False</td>\n",
       "      <td>True</td>\n",
       "      <td>False</td>\n",
       "      <td>0.02036</td>\n",
       "    </tr>\n",
       "    <tr>\n",
       "      <th>3</th>\n",
       "      <td>2015</td>\n",
       "      <td>41.0</td>\n",
       "      <td>0</td>\n",
       "      <td>0</td>\n",
       "      <td>1</td>\n",
       "      <td>0</td>\n",
       "      <td>0</td>\n",
       "      <td>0</td>\n",
       "      <td>0</td>\n",
       "      <td>27.32</td>\n",
       "      <td>4.0</td>\n",
       "      <td>159</td>\n",
       "      <td>0</td>\n",
       "      <td>False</td>\n",
       "      <td>True</td>\n",
       "      <td>False</td>\n",
       "      <td>0.02036</td>\n",
       "    </tr>\n",
       "    <tr>\n",
       "      <th>4</th>\n",
       "      <td>2016</td>\n",
       "      <td>52.0</td>\n",
       "      <td>1</td>\n",
       "      <td>0</td>\n",
       "      <td>0</td>\n",
       "      <td>0</td>\n",
       "      <td>0</td>\n",
       "      <td>0</td>\n",
       "      <td>0</td>\n",
       "      <td>23.75</td>\n",
       "      <td>6.5</td>\n",
       "      <td>90</td>\n",
       "      <td>0</td>\n",
       "      <td>True</td>\n",
       "      <td>False</td>\n",
       "      <td>False</td>\n",
       "      <td>0.02036</td>\n",
       "    </tr>\n",
       "  </tbody>\n",
       "</table>\n",
       "</div>"
      ],
      "text/plain": [
       "   year   age  race:AfricanAmerican  race:Asian  race:Caucasian  \\\n",
       "0  2020  32.0                     0           0               0   \n",
       "1  2015  29.0                     0           1               0   \n",
       "2  2015  18.0                     0           0               0   \n",
       "3  2015  41.0                     0           0               1   \n",
       "4  2016  52.0                     1           0               0   \n",
       "\n",
       "   race:Hispanic  race:Other  hypertension  heart_disease    bmi  hbA1c_level  \\\n",
       "0              0           1             0              0  27.32          5.0   \n",
       "1              0           0             0              0  19.95          5.0   \n",
       "2              0           1             0              0  23.76          4.8   \n",
       "3              0           0             0              0  27.32          4.0   \n",
       "4              0           0             0              0  23.75          6.5   \n",
       "\n",
       "   blood_glucose_level  diabetes  gender_Female  gender_Male  gender_Other  \\\n",
       "0                  100         0           True        False         False   \n",
       "1                   90         0           True        False         False   \n",
       "2                  160         0          False         True         False   \n",
       "3                  159         0          False         True         False   \n",
       "4                   90         0           True        False         False   \n",
       "\n",
       "   loc_freq  \n",
       "0   0.02036  \n",
       "1   0.02036  \n",
       "2   0.02036  \n",
       "3   0.02036  \n",
       "4   0.02036  "
      ]
     },
     "execution_count": 47,
     "metadata": {},
     "output_type": "execute_result"
    }
   ],
   "source": [
    "df.head()"
   ]
  },
  {
   "cell_type": "code",
   "execution_count": 48,
   "id": "9f5a7269",
   "metadata": {
    "execution": {
     "iopub.execute_input": "2025-04-14T19:50:01.191999Z",
     "iopub.status.busy": "2025-04-14T19:50:01.191632Z",
     "iopub.status.idle": "2025-04-14T19:50:01.197201Z",
     "shell.execute_reply": "2025-04-14T19:50:01.196285Z"
    },
    "papermill": {
     "duration": 0.033628,
     "end_time": "2025-04-14T19:50:01.198981",
     "exception": false,
     "start_time": "2025-04-14T19:50:01.165353",
     "status": "completed"
    },
    "tags": []
   },
   "outputs": [
    {
     "data": {
      "text/plain": [
       "Index(['year', 'age', 'race:AfricanAmerican', 'race:Asian', 'race:Caucasian',\n",
       "       'race:Hispanic', 'race:Other', 'hypertension', 'heart_disease', 'bmi',\n",
       "       'hbA1c_level', 'blood_glucose_level', 'diabetes', 'gender_Female',\n",
       "       'gender_Male', 'gender_Other', 'loc_freq'],\n",
       "      dtype='object')"
      ]
     },
     "execution_count": 48,
     "metadata": {},
     "output_type": "execute_result"
    }
   ],
   "source": [
    "df.columns"
   ]
  },
  {
   "cell_type": "code",
   "execution_count": 49,
   "id": "607b1442",
   "metadata": {
    "execution": {
     "iopub.execute_input": "2025-04-14T19:50:01.251321Z",
     "iopub.status.busy": "2025-04-14T19:50:01.250976Z",
     "iopub.status.idle": "2025-04-14T19:50:01.297690Z",
     "shell.execute_reply": "2025-04-14T19:50:01.296630Z"
    },
    "papermill": {
     "duration": 0.074871,
     "end_time": "2025-04-14T19:50:01.299472",
     "exception": false,
     "start_time": "2025-04-14T19:50:01.224601",
     "status": "completed"
    },
    "tags": []
   },
   "outputs": [
    {
     "data": {
      "text/html": [
       "<div>\n",
       "<style scoped>\n",
       "    .dataframe tbody tr th:only-of-type {\n",
       "        vertical-align: middle;\n",
       "    }\n",
       "\n",
       "    .dataframe tbody tr th {\n",
       "        vertical-align: top;\n",
       "    }\n",
       "\n",
       "    .dataframe thead th {\n",
       "        text-align: right;\n",
       "    }\n",
       "</style>\n",
       "<table border=\"1\" class=\"dataframe\">\n",
       "  <thead>\n",
       "    <tr style=\"text-align: right;\">\n",
       "      <th></th>\n",
       "      <th>year</th>\n",
       "      <th>age</th>\n",
       "      <th>race:AfricanAmerican</th>\n",
       "      <th>race:Asian</th>\n",
       "      <th>race:Caucasian</th>\n",
       "      <th>race:Hispanic</th>\n",
       "      <th>race:Other</th>\n",
       "      <th>hypertension</th>\n",
       "      <th>heart_disease</th>\n",
       "      <th>bmi</th>\n",
       "      <th>hbA1c_level</th>\n",
       "      <th>blood_glucose_level</th>\n",
       "      <th>diabetes</th>\n",
       "      <th>gender_Female</th>\n",
       "      <th>gender_Male</th>\n",
       "      <th>gender_Other</th>\n",
       "      <th>loc_freq</th>\n",
       "    </tr>\n",
       "  </thead>\n",
       "  <tbody>\n",
       "    <tr>\n",
       "      <th>0</th>\n",
       "      <td>1.218511</td>\n",
       "      <td>-0.439045</td>\n",
       "      <td>0</td>\n",
       "      <td>0</td>\n",
       "      <td>0</td>\n",
       "      <td>0</td>\n",
       "      <td>1</td>\n",
       "      <td>0</td>\n",
       "      <td>0</td>\n",
       "      <td>-0.000116</td>\n",
       "      <td>-0.492690</td>\n",
       "      <td>-0.934905</td>\n",
       "      <td>0</td>\n",
       "      <td>True</td>\n",
       "      <td>False</td>\n",
       "      <td>False</td>\n",
       "      <td>0.02036</td>\n",
       "    </tr>\n",
       "    <tr>\n",
       "      <th>1</th>\n",
       "      <td>-2.498320</td>\n",
       "      <td>-0.572279</td>\n",
       "      <td>0</td>\n",
       "      <td>1</td>\n",
       "      <td>0</td>\n",
       "      <td>0</td>\n",
       "      <td>0</td>\n",
       "      <td>0</td>\n",
       "      <td>0</td>\n",
       "      <td>-1.110599</td>\n",
       "      <td>-0.492690</td>\n",
       "      <td>-1.180558</td>\n",
       "      <td>0</td>\n",
       "      <td>True</td>\n",
       "      <td>False</td>\n",
       "      <td>False</td>\n",
       "      <td>0.02036</td>\n",
       "    </tr>\n",
       "    <tr>\n",
       "      <th>2</th>\n",
       "      <td>-2.498320</td>\n",
       "      <td>-1.060805</td>\n",
       "      <td>0</td>\n",
       "      <td>0</td>\n",
       "      <td>0</td>\n",
       "      <td>0</td>\n",
       "      <td>1</td>\n",
       "      <td>0</td>\n",
       "      <td>0</td>\n",
       "      <td>-0.536523</td>\n",
       "      <td>-0.679490</td>\n",
       "      <td>0.539009</td>\n",
       "      <td>0</td>\n",
       "      <td>False</td>\n",
       "      <td>True</td>\n",
       "      <td>False</td>\n",
       "      <td>0.02036</td>\n",
       "    </tr>\n",
       "    <tr>\n",
       "      <th>3</th>\n",
       "      <td>-2.498320</td>\n",
       "      <td>-0.039342</td>\n",
       "      <td>0</td>\n",
       "      <td>0</td>\n",
       "      <td>1</td>\n",
       "      <td>0</td>\n",
       "      <td>0</td>\n",
       "      <td>0</td>\n",
       "      <td>0</td>\n",
       "      <td>-0.000116</td>\n",
       "      <td>-1.426688</td>\n",
       "      <td>0.514444</td>\n",
       "      <td>0</td>\n",
       "      <td>False</td>\n",
       "      <td>True</td>\n",
       "      <td>False</td>\n",
       "      <td>0.02036</td>\n",
       "    </tr>\n",
       "    <tr>\n",
       "      <th>4</th>\n",
       "      <td>-1.754954</td>\n",
       "      <td>0.449184</td>\n",
       "      <td>1</td>\n",
       "      <td>0</td>\n",
       "      <td>0</td>\n",
       "      <td>0</td>\n",
       "      <td>0</td>\n",
       "      <td>0</td>\n",
       "      <td>0</td>\n",
       "      <td>-0.538029</td>\n",
       "      <td>0.908306</td>\n",
       "      <td>-1.180558</td>\n",
       "      <td>0</td>\n",
       "      <td>True</td>\n",
       "      <td>False</td>\n",
       "      <td>False</td>\n",
       "      <td>0.02036</td>\n",
       "    </tr>\n",
       "  </tbody>\n",
       "</table>\n",
       "</div>"
      ],
      "text/plain": [
       "       year       age  race:AfricanAmerican  race:Asian  race:Caucasian  \\\n",
       "0  1.218511 -0.439045                     0           0               0   \n",
       "1 -2.498320 -0.572279                     0           1               0   \n",
       "2 -2.498320 -1.060805                     0           0               0   \n",
       "3 -2.498320 -0.039342                     0           0               1   \n",
       "4 -1.754954  0.449184                     1           0               0   \n",
       "\n",
       "   race:Hispanic  race:Other  hypertension  heart_disease       bmi  \\\n",
       "0              0           1             0              0 -0.000116   \n",
       "1              0           0             0              0 -1.110599   \n",
       "2              0           1             0              0 -0.536523   \n",
       "3              0           0             0              0 -0.000116   \n",
       "4              0           0             0              0 -0.538029   \n",
       "\n",
       "   hbA1c_level  blood_glucose_level  diabetes  gender_Female  gender_Male  \\\n",
       "0    -0.492690            -0.934905         0           True        False   \n",
       "1    -0.492690            -1.180558         0           True        False   \n",
       "2    -0.679490             0.539009         0          False         True   \n",
       "3    -1.426688             0.514444         0          False         True   \n",
       "4     0.908306            -1.180558         0           True        False   \n",
       "\n",
       "   gender_Other  loc_freq  \n",
       "0         False   0.02036  \n",
       "1         False   0.02036  \n",
       "2         False   0.02036  \n",
       "3         False   0.02036  \n",
       "4         False   0.02036  "
      ]
     },
     "execution_count": 49,
     "metadata": {},
     "output_type": "execute_result"
    }
   ],
   "source": [
    "# Dealing with numerical columns \n",
    "scaler = StandardScaler()\n",
    "num_col = ['year', 'age','bmi','hbA1c_level','blood_glucose_level']\n",
    "df[num_col] = scaler.fit_transform(df[num_col])\n",
    "df.head()"
   ]
  },
  {
   "cell_type": "markdown",
   "id": "98ecaef8",
   "metadata": {
    "papermill": {
     "duration": 0.024951,
     "end_time": "2025-04-14T19:50:01.350514",
     "exception": false,
     "start_time": "2025-04-14T19:50:01.325563",
     "status": "completed"
    },
    "tags": []
   },
   "source": [
    "## 4. Feature Engineering "
   ]
  },
  {
   "cell_type": "markdown",
   "id": "a9314c60",
   "metadata": {
    "papermill": {
     "duration": 0.024971,
     "end_time": "2025-04-14T19:50:01.400613",
     "exception": false,
     "start_time": "2025-04-14T19:50:01.375642",
     "status": "completed"
    },
    "tags": []
   },
   "source": [
    "We will here create another dataset and do some feature engineering to see if adding certain features contributes towards a better prediction "
   ]
  },
  {
   "cell_type": "code",
   "execution_count": 50,
   "id": "efe5d0b2",
   "metadata": {
    "execution": {
     "iopub.execute_input": "2025-04-14T19:50:01.452512Z",
     "iopub.status.busy": "2025-04-14T19:50:01.452189Z",
     "iopub.status.idle": "2025-04-14T19:50:01.458481Z",
     "shell.execute_reply": "2025-04-14T19:50:01.457594Z"
    },
    "papermill": {
     "duration": 0.034259,
     "end_time": "2025-04-14T19:50:01.460203",
     "exception": false,
     "start_time": "2025-04-14T19:50:01.425944",
     "status": "completed"
    },
    "tags": []
   },
   "outputs": [],
   "source": [
    "#1. Age BMI interaction \n",
    "df['age_bmi'] = df['age'] * df['bmi']\n",
    "df['comorbidity_count'] = df['hypertension'] + df['heart_disease']"
   ]
  },
  {
   "cell_type": "markdown",
   "id": "5797f307",
   "metadata": {
    "papermill": {
     "duration": 0.026007,
     "end_time": "2025-04-14T19:50:01.512485",
     "exception": false,
     "start_time": "2025-04-14T19:50:01.486478",
     "status": "completed"
    },
    "tags": []
   },
   "source": [
    "## 5. Using different ML Algorithms"
   ]
  },
  {
   "cell_type": "code",
   "execution_count": 51,
   "id": "52e5b5b8",
   "metadata": {
    "execution": {
     "iopub.execute_input": "2025-04-14T19:50:01.564939Z",
     "iopub.status.busy": "2025-04-14T19:50:01.564565Z",
     "iopub.status.idle": "2025-04-14T19:50:01.859289Z",
     "shell.execute_reply": "2025-04-14T19:50:01.858245Z"
    },
    "papermill": {
     "duration": 0.322914,
     "end_time": "2025-04-14T19:50:01.861028",
     "exception": false,
     "start_time": "2025-04-14T19:50:01.538114",
     "status": "completed"
    },
    "tags": []
   },
   "outputs": [],
   "source": [
    "# Splitting the data \n",
    "y = df['diabetes']\n",
    "X = df.drop('diabetes', axis=1)\n",
    "X_train, X_test, y_train, y_test = train_test_split(X, y, test_size=0.2, random_state=0)\n",
    "\n",
    "#Dealing with the imbalanced dataset\n",
    "smote = SMOTE(random_state=42)\n",
    "X_train_resampled, y_train_resampled = smote.fit_resample(X_train, y_train)"
   ]
  },
  {
   "cell_type": "code",
   "execution_count": 52,
   "id": "c74c2f2c",
   "metadata": {
    "execution": {
     "iopub.execute_input": "2025-04-14T19:50:01.913188Z",
     "iopub.status.busy": "2025-04-14T19:50:01.912801Z",
     "iopub.status.idle": "2025-04-14T19:50:01.947262Z",
     "shell.execute_reply": "2025-04-14T19:50:01.946338Z"
    },
    "papermill": {
     "duration": 0.062082,
     "end_time": "2025-04-14T19:50:01.948645",
     "exception": false,
     "start_time": "2025-04-14T19:50:01.886563",
     "status": "completed"
    },
    "tags": []
   },
   "outputs": [
    {
     "name": "stdout",
     "output_type": "stream",
     "text": [
      "Before SMOTE: Counter({0: 73206, 1: 6794})\n",
      "After SMOTE: Counter({0: 73206, 1: 73206})\n"
     ]
    }
   ],
   "source": [
    "from collections import Counter\n",
    "\n",
    "print(\"Before SMOTE:\", Counter(y_train))\n",
    "print(\"After SMOTE:\", Counter(y_train_resampled))\n"
   ]
  },
  {
   "cell_type": "code",
   "execution_count": 53,
   "id": "63954c89",
   "metadata": {
    "execution": {
     "iopub.execute_input": "2025-04-14T19:50:02.002635Z",
     "iopub.status.busy": "2025-04-14T19:50:02.002302Z",
     "iopub.status.idle": "2025-04-14T19:51:10.155552Z",
     "shell.execute_reply": "2025-04-14T19:51:10.154488Z"
    },
    "papermill": {
     "duration": 68.181843,
     "end_time": "2025-04-14T19:51:10.157460",
     "exception": false,
     "start_time": "2025-04-14T19:50:01.975617",
     "status": "completed"
    },
    "tags": []
   },
   "outputs": [
    {
     "name": "stdout",
     "output_type": "stream",
     "text": [
      "\n",
      "LogisticRegression:\n",
      "\n",
      "              precision    recall  f1-score   support\n",
      "\n",
      "           0       0.99      0.89      0.94     18294\n",
      "           1       0.43      0.87      0.58      1706\n",
      "\n",
      "    accuracy                           0.89     20000\n",
      "   macro avg       0.71      0.88      0.76     20000\n",
      "weighted avg       0.94      0.89      0.91     20000\n",
      "\n",
      "AUC: 0.961188035180498\n"
     ]
    },
    {
     "data": {
      "image/png": "[encoded data removed]",
      "text/plain": [
       "<Figure size 640x480 with 2 Axes>"
      ]
     },
     "metadata": {},
     "output_type": "display_data"
    },
    {
     "name": "stdout",
     "output_type": "stream",
     "text": [
      "\n",
      "Random Forest:\n",
      "\n",
      "              precision    recall  f1-score   support\n",
      "\n",
      "           0       0.98      0.98      0.98     18294\n",
      "           1       0.81      0.74      0.77      1706\n",
      "\n",
      "    accuracy                           0.96     20000\n",
      "   macro avg       0.89      0.86      0.88     20000\n",
      "weighted avg       0.96      0.96      0.96     20000\n",
      "\n",
      "AUC: 0.9694610600776096\n"
     ]
    },
    {
     "data": {
      "image/png": "[encoded data removed]",
      "text/plain": [
       "<Figure size 640x480 with 2 Axes>"
      ]
     },
     "metadata": {},
     "output_type": "display_data"
    },
    {
     "name": "stdout",
     "output_type": "stream",
     "text": [
      "\n",
      "Gradient Boosting:\n",
      "\n",
      "              precision    recall  f1-score   support\n",
      "\n",
      "           0       0.98      0.98      0.98     18294\n",
      "           1       0.77      0.77      0.77      1706\n",
      "\n",
      "    accuracy                           0.96     20000\n",
      "   macro avg       0.87      0.87      0.87     20000\n",
      "weighted avg       0.96      0.96      0.96     20000\n",
      "\n",
      "AUC: 0.976086705344554\n"
     ]
    },
    {
     "data": {
      "image/png": "[encoded data removed]",
      "text/plain": [
       "<Figure size 640x480 with 2 Axes>"
      ]
     },
     "metadata": {},
     "output_type": "display_data"
    },
    {
     "name": "stdout",
     "output_type": "stream",
     "text": [
      "\n",
      "K-Nearest Neighbors:\n",
      "\n",
      "              precision    recall  f1-score   support\n",
      "\n",
      "           0       0.98      0.92      0.95     18294\n",
      "           1       0.47      0.81      0.60      1706\n",
      "\n",
      "    accuracy                           0.91     20000\n",
      "   macro avg       0.73      0.86      0.77     20000\n",
      "weighted avg       0.94      0.91      0.92     20000\n",
      "\n",
      "AUC: 0.9120480343781797\n"
     ]
    },
    {
     "data": {
      "image/png": "[encoded data removed]",
      "text/plain": [
       "<Figure size 640x480 with 2 Axes>"
      ]
     },
     "metadata": {},
     "output_type": "display_data"
    },
    {
     "name": "stdout",
     "output_type": "stream",
     "text": [
      "\n",
      "XGBoost:\n",
      "\n",
      "              precision    recall  f1-score   support\n",
      "\n",
      "           0       0.98      0.99      0.98     18294\n",
      "           1       0.88      0.73      0.80      1706\n",
      "\n",
      "    accuracy                           0.97     20000\n",
      "   macro avg       0.93      0.86      0.89     20000\n",
      "weighted avg       0.97      0.97      0.97     20000\n",
      "\n",
      "AUC: 0.9770794459031853\n"
     ]
    },
    {
     "data": {
      "image/png": "[encoded data removed]",
      "text/plain": [
       "<Figure size 640x480 with 2 Axes>"
      ]
     },
     "metadata": {},
     "output_type": "display_data"
    }
   ],
   "source": [
    "# Different models to classify\n",
    "models = {\n",
    "    \"LogisticRegression\": LogisticRegression(max_iter=1000), \n",
    "    \"Random Forest\" : RandomForestClassifier(),\n",
    "    \"Gradient Boosting\": GradientBoostingClassifier(),\n",
    "    \"K-Nearest Neighbors\": KNeighborsClassifier(),\n",
    "    \"XGBoost\": xgb.XGBClassifier(n_estimators=50, max_depth=3, use_label_encoder=False, eval_metric='logloss')\n",
    "\n",
    "}\n",
    "\n",
    "for name, model in models.items():\n",
    "    model.fit(X_train_resampled, y_train_resampled)\n",
    "    y_pred = model.predict(X_test)\n",
    "    \n",
    "    print(f\"\\n{name}:\\n\")\n",
    "    print(classification_report(y_test, y_pred))\n",
    "    \n",
    "    y_probs = model.predict_proba(X_test)[:, 1]\n",
    "    print(\"AUC:\", roc_auc_score(y_test, y_probs))\n",
    "    \n",
    "    cm = confusion_matrix(y_test, y_pred)\n",
    "    disp = ConfusionMatrixDisplay(cm)\n",
    "    fig, ax = plt.subplots()\n",
    "    disp.plot(ax=ax)\n",
    "    ax.set_title(f\"Confusion Matrix: {name}\")\n",
    "    plt.show()\n"
   ]
  },
  {
   "cell_type": "markdown",
   "id": "27fe029f",
   "metadata": {
    "papermill": {
     "duration": 0.029614,
     "end_time": "2025-04-14T19:51:10.219238",
     "exception": false,
     "start_time": "2025-04-14T19:51:10.189624",
     "status": "completed"
    },
    "tags": []
   },
   "source": [
    "| Model | Precision | Recall | F1-Score | AUC|\n",
    "|-------|-----------|--------|----------|----|\n",
    "|Random Forest | 0.80   |   0.74 |     0.77 | 0.96924 |\n",
    "|Gradient Boosting | 0.77   |   0.77   |   0.77 | 0.97608 |\n",
    "|XGBoost | 0.88   |   0.73    |  0.80 | 0.97707 |"
   ]
  },
  {
   "cell_type": "markdown",
   "id": "7bacc253",
   "metadata": {
    "papermill": {
     "duration": 0.030037,
     "end_time": "2025-04-14T19:51:10.278926",
     "exception": false,
     "start_time": "2025-04-14T19:51:10.248889",
     "status": "completed"
    },
    "tags": []
   },
   "source": [
    "## 6. Conclusion \n",
    "In this project, I tackled a binary classification problem with a highly imbalanced dataset. To address the imbalance, I applied SMOTE (Synthetic Minority Oversampling Technique) to generate synthetic samples of the minority class. This allowed the models to better learn the decision boundaries for both classes, especially the underrepresented one.\n",
    "\n",
    "I evaluated multiple classifiers:\n",
    "\n",
    "- Logistic Regression\n",
    "\n",
    "- Random Forest\n",
    "\n",
    "- Gradient Boosting\n",
    "\n",
    "- K-Nearest Neighbors\n",
    "\n",
    "- XGBoost\n",
    "\n",
    "\n",
    "**Key Observations:**\n",
    "\n",
    "XGBoost delivered the highest AUC score (0.977), indicating excellent discrimination between classes. It also achieved a strong balance of precision, recall, and F1-score.\n",
    "\n",
    "Gradient Boosting also performed well across all metrics and had the second-best AUC.\n",
    "\n",
    "Random Forest showed robust performance, slightly behind XGBoost and Gradient Boosting.\n",
    "\n",
    "\n",
    "*XGBoost is the most effective model for this classification task, offering both high accuracy and excellent AUC.*"
   ]
  },
  {
   "cell_type": "markdown",
   "id": "80a0f0aa",
   "metadata": {
    "papermill": {
     "duration": 0.0294,
     "end_time": "2025-04-14T19:51:10.338615",
     "exception": false,
     "start_time": "2025-04-14T19:51:10.309215",
     "status": "completed"
    },
    "tags": []
   },
   "source": [
    "### Author\n",
    "### Rubina Parveen \n"
   ]
  },
  {
   "cell_type": "code",
   "execution_count": null,
   "id": "df12e2b8",
   "metadata": {
    "papermill": {
     "duration": 0.029114,
     "end_time": "2025-04-14T19:51:10.397351",
     "exception": false,
     "start_time": "2025-04-14T19:51:10.368237",
     "status": "completed"
    },
    "tags": []
   },
   "outputs": [],
   "source": []
  }
 ],
 "metadata": {
  "kaggle": {
   "accelerator": "none",
   "dataSources": [
    {
     "datasetId": 6620808,
     "sourceId": 10686324,
     "sourceType": "datasetVersion"
    }
   ],
   "dockerImageVersionId": 30918,
   "isGpuEnabled": false,
   "isInternetEnabled": true,
   "language": "python",
   "sourceType": "notebook"
  },
  "kernelspec": {
   "display_name": "Python 3",
   "language": "python",
   "name": "python3"
  },
  "language_info": {
   "codemirror_mode": {
    "name": "ipython",
    "version": 3
   },
   "file_extension": ".py",
   "mimetype": "text/x-python",
   "name": "python",
   "nbconvert_exporter": "python",
   "pygments_lexer": "ipython3",
   "version": "3.10.12"
  },
  "papermill": {
   "default_parameters": {},
   "duration": 82.93327,
   "end_time": "2025-04-14T19:51:11.148722",
   "environment_variables": {},
   "exception": null,
   "input_path": "__notebook__.ipynb",
   "output_path": "__notebook__.ipynb",
   "parameters": {},
   "start_time": "2025-04-14T19:49:48.215452",
   "version": "2.6.0"
  }
 },
 "nbformat": 4,
 "nbformat_minor": 5
}
